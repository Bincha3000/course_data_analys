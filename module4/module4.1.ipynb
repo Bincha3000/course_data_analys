{
 "cells": [
  {
   "cell_type": "code",
   "execution_count": 16,
   "metadata": {},
   "outputs": [],
   "source": [
    "import pandas as pd \n",
    "data = pd.read_csv('keywords.csv')\n",
    "data['dialy_shows'] = data['shows']/11\n",
    "data['ratio'] = data['dialy_shows'] / data['shows']\n",
    "# data.drop(['ratio'], axis = 1, inplace = True)\n",
    "del data['ratio']\n",
    "# data.drop(['keyword', 'shows', 'ratio'], axis=1, inplace=True)"
   ]
  },
  {
   "cell_type": "code",
   "execution_count": 17,
   "metadata": {},
   "outputs": [],
   "source": [
    "data = data[ data['keyword'].str.contains('недвиж') ]\n",
    "data.loc[:, 'split'] = data['keyword'].str.split(' ')"
   ]
  },
  {
   "cell_type": "code",
   "execution_count": 18,
   "metadata": {},
   "outputs": [
    {
     "data": {
      "text/html": [
       "<div>\n",
       "<style scoped>\n",
       "    .dataframe tbody tr th:only-of-type {\n",
       "        vertical-align: middle;\n",
       "    }\n",
       "\n",
       "    .dataframe tbody tr th {\n",
       "        vertical-align: top;\n",
       "    }\n",
       "\n",
       "    .dataframe thead th {\n",
       "        text-align: right;\n",
       "    }\n",
       "</style>\n",
       "<table border=\"1\" class=\"dataframe\">\n",
       "  <thead>\n",
       "    <tr style=\"text-align: right;\">\n",
       "      <th></th>\n",
       "      <th>keyword</th>\n",
       "      <th>shows</th>\n",
       "      <th>dialy_shows</th>\n",
       "      <th>split</th>\n",
       "    </tr>\n",
       "  </thead>\n",
       "  <tbody>\n",
       "    <tr>\n",
       "      <th>2806</th>\n",
       "      <td>циан недвижимость москва</td>\n",
       "      <td>78729</td>\n",
       "      <td>7157.181818</td>\n",
       "      <td>[циан, недвижимость, москва]</td>\n",
       "    </tr>\n",
       "    <tr>\n",
       "      <th>3054</th>\n",
       "      <td>авито недвижимость</td>\n",
       "      <td>74037</td>\n",
       "      <td>6730.636364</td>\n",
       "      <td>[авито, недвижимость]</td>\n",
       "    </tr>\n",
       "    <tr>\n",
       "      <th>3066</th>\n",
       "      <td>недвижимость</td>\n",
       "      <td>72984</td>\n",
       "      <td>6634.909091</td>\n",
       "      <td>[недвижимость]</td>\n",
       "    </tr>\n",
       "    <tr>\n",
       "      <th>4273</th>\n",
       "      <td>е1 недвижимость</td>\n",
       "      <td>56277</td>\n",
       "      <td>5116.090909</td>\n",
       "      <td>[е1, недвижимость]</td>\n",
       "    </tr>\n",
       "    <tr>\n",
       "      <th>4912</th>\n",
       "      <td>нгс недвижимость новосибирск</td>\n",
       "      <td>54149</td>\n",
       "      <td>4922.636364</td>\n",
       "      <td>[нгс, недвижимость, новосибирск]</td>\n",
       "    </tr>\n",
       "  </tbody>\n",
       "</table>\n",
       "</div>"
      ],
      "text/plain": [
       "                           keyword  shows  dialy_shows  \\\n",
       "2806      циан недвижимость москва  78729  7157.181818   \n",
       "3054            авито недвижимость  74037  6730.636364   \n",
       "3066                  недвижимость  72984  6634.909091   \n",
       "4273               е1 недвижимость  56277  5116.090909   \n",
       "4912  нгс недвижимость новосибирск  54149  4922.636364   \n",
       "\n",
       "                                 split  \n",
       "2806      [циан, недвижимость, москва]  \n",
       "3054             [авито, недвижимость]  \n",
       "3066                    [недвижимость]  \n",
       "4273                [е1, недвижимость]  \n",
       "4912  [нгс, недвижимость, новосибирск]  "
      ]
     },
     "execution_count": 18,
     "metadata": {},
     "output_type": "execute_result"
    }
   ],
   "source": [
    "data.head()"
   ]
  },
  {
   "cell_type": "code",
   "execution_count": 19,
   "metadata": {},
   "outputs": [],
   "source": [
    "data['word_count'] = data['split'].apply(lambda x: len(x))"
   ]
  },
  {
   "cell_type": "code",
   "execution_count": 20,
   "metadata": {},
   "outputs": [
    {
     "data": {
      "text/html": [
       "<div>\n",
       "<style scoped>\n",
       "    .dataframe tbody tr th:only-of-type {\n",
       "        vertical-align: middle;\n",
       "    }\n",
       "\n",
       "    .dataframe tbody tr th {\n",
       "        vertical-align: top;\n",
       "    }\n",
       "\n",
       "    .dataframe thead th {\n",
       "        text-align: right;\n",
       "    }\n",
       "</style>\n",
       "<table border=\"1\" class=\"dataframe\">\n",
       "  <thead>\n",
       "    <tr style=\"text-align: right;\">\n",
       "      <th></th>\n",
       "      <th>keyword</th>\n",
       "      <th>shows</th>\n",
       "      <th>dialy_shows</th>\n",
       "      <th>split</th>\n",
       "      <th>word_count</th>\n",
       "    </tr>\n",
       "  </thead>\n",
       "  <tbody>\n",
       "    <tr>\n",
       "      <th>2806</th>\n",
       "      <td>циан недвижимость москва</td>\n",
       "      <td>78729</td>\n",
       "      <td>7157.181818</td>\n",
       "      <td>[циан, недвижимость, москва]</td>\n",
       "      <td>3</td>\n",
       "    </tr>\n",
       "    <tr>\n",
       "      <th>3054</th>\n",
       "      <td>авито недвижимость</td>\n",
       "      <td>74037</td>\n",
       "      <td>6730.636364</td>\n",
       "      <td>[авито, недвижимость]</td>\n",
       "      <td>2</td>\n",
       "    </tr>\n",
       "    <tr>\n",
       "      <th>3066</th>\n",
       "      <td>недвижимость</td>\n",
       "      <td>72984</td>\n",
       "      <td>6634.909091</td>\n",
       "      <td>[недвижимость]</td>\n",
       "      <td>1</td>\n",
       "    </tr>\n",
       "    <tr>\n",
       "      <th>4273</th>\n",
       "      <td>е1 недвижимость</td>\n",
       "      <td>56277</td>\n",
       "      <td>5116.090909</td>\n",
       "      <td>[е1, недвижимость]</td>\n",
       "      <td>2</td>\n",
       "    </tr>\n",
       "    <tr>\n",
       "      <th>4912</th>\n",
       "      <td>нгс недвижимость новосибирск</td>\n",
       "      <td>54149</td>\n",
       "      <td>4922.636364</td>\n",
       "      <td>[нгс, недвижимость, новосибирск]</td>\n",
       "      <td>3</td>\n",
       "    </tr>\n",
       "  </tbody>\n",
       "</table>\n",
       "</div>"
      ],
      "text/plain": [
       "                           keyword  shows  dialy_shows  \\\n",
       "2806      циан недвижимость москва  78729  7157.181818   \n",
       "3054            авито недвижимость  74037  6730.636364   \n",
       "3066                  недвижимость  72984  6634.909091   \n",
       "4273               е1 недвижимость  56277  5116.090909   \n",
       "4912  нгс недвижимость новосибирск  54149  4922.636364   \n",
       "\n",
       "                                 split  word_count  \n",
       "2806      [циан, недвижимость, москва]           3  \n",
       "3054             [авито, недвижимость]           2  \n",
       "3066                    [недвижимость]           1  \n",
       "4273                [е1, недвижимость]           2  \n",
       "4912  [нгс, недвижимость, новосибирск]           3  "
      ]
     },
     "execution_count": 20,
     "metadata": {},
     "output_type": "execute_result"
    }
   ],
   "source": [
    "data.head()"
   ]
  },
  {
   "cell_type": "code",
   "execution_count": 31,
   "metadata": {},
   "outputs": [],
   "source": [
    "data['dialy_shows'] = data['dialy_shows'].apply(lambda x: int(x))"
   ]
  },
  {
   "cell_type": "code",
   "execution_count": 32,
   "metadata": {},
   "outputs": [
    {
     "data": {
      "text/html": [
       "<div>\n",
       "<style scoped>\n",
       "    .dataframe tbody tr th:only-of-type {\n",
       "        vertical-align: middle;\n",
       "    }\n",
       "\n",
       "    .dataframe tbody tr th {\n",
       "        vertical-align: top;\n",
       "    }\n",
       "\n",
       "    .dataframe thead th {\n",
       "        text-align: right;\n",
       "    }\n",
       "</style>\n",
       "<table border=\"1\" class=\"dataframe\">\n",
       "  <thead>\n",
       "    <tr style=\"text-align: right;\">\n",
       "      <th></th>\n",
       "      <th>keyword</th>\n",
       "      <th>shows</th>\n",
       "      <th>dialy_shows</th>\n",
       "      <th>split</th>\n",
       "      <th>word_count</th>\n",
       "    </tr>\n",
       "  </thead>\n",
       "  <tbody>\n",
       "    <tr>\n",
       "      <th>2806</th>\n",
       "      <td>циан недвижимость москва</td>\n",
       "      <td>78729</td>\n",
       "      <td>7157</td>\n",
       "      <td>[циан, недвижимость, москва]</td>\n",
       "      <td>3</td>\n",
       "    </tr>\n",
       "    <tr>\n",
       "      <th>3054</th>\n",
       "      <td>авито недвижимость</td>\n",
       "      <td>74037</td>\n",
       "      <td>6730</td>\n",
       "      <td>[авито, недвижимость]</td>\n",
       "      <td>2</td>\n",
       "    </tr>\n",
       "    <tr>\n",
       "      <th>3066</th>\n",
       "      <td>недвижимость</td>\n",
       "      <td>72984</td>\n",
       "      <td>6634</td>\n",
       "      <td>[недвижимость]</td>\n",
       "      <td>1</td>\n",
       "    </tr>\n",
       "    <tr>\n",
       "      <th>4273</th>\n",
       "      <td>е1 недвижимость</td>\n",
       "      <td>56277</td>\n",
       "      <td>5116</td>\n",
       "      <td>[е1, недвижимость]</td>\n",
       "      <td>2</td>\n",
       "    </tr>\n",
       "    <tr>\n",
       "      <th>4912</th>\n",
       "      <td>нгс недвижимость новосибирск</td>\n",
       "      <td>54149</td>\n",
       "      <td>4922</td>\n",
       "      <td>[нгс, недвижимость, новосибирск]</td>\n",
       "      <td>3</td>\n",
       "    </tr>\n",
       "  </tbody>\n",
       "</table>\n",
       "</div>"
      ],
      "text/plain": [
       "                           keyword  shows  dialy_shows  \\\n",
       "2806      циан недвижимость москва  78729         7157   \n",
       "3054            авито недвижимость  74037         6730   \n",
       "3066                  недвижимость  72984         6634   \n",
       "4273               е1 недвижимость  56277         5116   \n",
       "4912  нгс недвижимость новосибирск  54149         4922   \n",
       "\n",
       "                                 split  word_count  \n",
       "2806      [циан, недвижимость, москва]           3  \n",
       "3054             [авито, недвижимость]           2  \n",
       "3066                    [недвижимость]           1  \n",
       "4273                [е1, недвижимость]           2  \n",
       "4912  [нгс, недвижимость, новосибирск]           3  "
      ]
     },
     "execution_count": 32,
     "metadata": {},
     "output_type": "execute_result"
    }
   ],
   "source": [
    "data.head()"
   ]
  },
  {
   "cell_type": "code",
   "execution_count": 36,
   "metadata": {},
   "outputs": [
    {
     "data": {
      "text/plain": [
       "3    72\n",
       "2    25\n",
       "4    20\n",
       "5    12\n",
       "6     7\n",
       "8     3\n",
       "9     1\n",
       "7     1\n",
       "1     1\n",
       "Name: word_count, dtype: int64"
      ]
     },
     "execution_count": 36,
     "metadata": {},
     "output_type": "execute_result"
    }
   ],
   "source": [
    "data['word_count'].value_counts()"
   ]
  },
  {
   "cell_type": "code",
   "execution_count": null,
   "metadata": {},
   "outputs": [],
   "source": []
  }
 ],
 "metadata": {
  "kernelspec": {
   "display_name": "Python 3",
   "language": "python",
   "name": "python3"
  },
  "language_info": {
   "codemirror_mode": {
    "name": "ipython",
    "version": 3
   },
   "file_extension": ".py",
   "mimetype": "text/x-python",
   "name": "python",
   "nbconvert_exporter": "python",
   "pygments_lexer": "ipython3",
   "version": "3.7.0"
  }
 },
 "nbformat": 4,
 "nbformat_minor": 2
}
