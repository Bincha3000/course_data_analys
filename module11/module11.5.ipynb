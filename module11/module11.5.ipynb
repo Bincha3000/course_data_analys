{
 "cells": [
  {
   "cell_type": "code",
   "execution_count": 1,
   "metadata": {},
   "outputs": [],
   "source": [
    "import requests\n",
    "from yaml import load\n",
    "f = open('config.yaml', mode = 'r', encoding='utf-8')\n",
    "config = load(f)\n",
    "token = config['access_token']"
   ]
  },
  {
   "cell_type": "code",
   "execution_count": 5,
   "metadata": {},
   "outputs": [
    {
     "name": "stdout",
     "output_type": "stream",
     "text": [
      "0.25\n"
     ]
    }
   ],
   "source": [
    "url = 'https://api.vk.com/method/users.get?'\n",
    "users = [1, 2, 3, 4, 5, 6, 7, 8, 9, 10]\n",
    "tmp = 0\n",
    "no_sex = 0\n",
    "for user in users:\n",
    "    params = {\n",
    "        'user_id': user,\n",
    "        'v': 5.52, \n",
    "        'fields': 'sex',\n",
    "        'access_token': token\n",
    "    }\n",
    "    r = requests.get(url, params=params)\n",
    "    data = r.json()\n",
    "    sex = data['response'][0]['sex']\n",
    "    if sex == 1:\n",
    "        tmp += 1\n",
    "    elif sex == 2:\n",
    "        continue\n",
    "    else:\n",
    "        no_sex += 1\n",
    "print(tmp/((len(users))- no_sex))"
   ]
  },
  {
   "cell_type": "code",
   "execution_count": null,
   "metadata": {},
   "outputs": [],
   "source": []
  }
 ],
 "metadata": {
  "kernelspec": {
   "display_name": "Python 3",
   "language": "python",
   "name": "python3"
  },
  "language_info": {
   "codemirror_mode": {
    "name": "ipython",
    "version": 3
   },
   "file_extension": ".py",
   "mimetype": "text/x-python",
   "name": "python",
   "nbconvert_exporter": "python",
   "pygments_lexer": "ipython3",
   "version": "3.7.2"
  }
 },
 "nbformat": 4,
 "nbformat_minor": 2
}
