{
 "cells": [
  {
   "cell_type": "code",
   "execution_count": 36,
   "metadata": {},
   "outputs": [],
   "source": [
    "from yaml import load\n",
    "import requests"
   ]
  },
  {
   "cell_type": "code",
   "execution_count": 37,
   "metadata": {},
   "outputs": [],
   "source": [
    "f = open('config.yaml', mode = 'r', encoding = 'utf-8')\n",
    "config = load(f)\n",
    "token = config['access_token']"
   ]
  },
  {
   "cell_type": "code",
   "execution_count": 38,
   "metadata": {},
   "outputs": [
    {
     "name": "stdout",
     "output_type": "stream",
     "text": [
      "{'response': [{'bdate': '10.10.1984',\n",
      "               'city': {'id': 2, 'title': 'Saint Petersburg'},\n",
      "               'first_name': 'Pavel',\n",
      "               'id': 1,\n",
      "               'last_name': 'Durov',\n",
      "               'sex': 2},\n",
      "              {'first_name': 'Alexandra',\n",
      "               'id': 2,\n",
      "               'last_name': 'Vladimirova',\n",
      "               'sex': 1},\n",
      "              {'deactivated': 'deleted',\n",
      "               'first_name': 'DELETED',\n",
      "               'id': 3,\n",
      "               'last_name': '',\n",
      "               'sex': 0}]}\n"
     ]
    }
   ],
   "source": [
    "url = 'https://api.vk.com/method/users.get'\n",
    "params = {\n",
    "    'user_ids':'1,2,3',\n",
    "    'v': 5.73,\n",
    "    'fields': 'sex,bdate,city',\n",
    "    'access_token': token\n",
    "}\n",
    "from pprint import pprint\n",
    "data = requests.get(url, params = params)\n",
    "pprint(data.json())"
   ]
  },
  {
   "cell_type": "code",
   "execution_count": 39,
   "metadata": {},
   "outputs": [
    {
     "data": {
      "text/plain": [
       "1000"
      ]
     },
     "execution_count": 39,
     "metadata": {},
     "output_type": "execute_result"
    }
   ],
   "source": [
    "url = 'https://api.vk.com/method/groups.getMembers'\n",
    "params = {\n",
    "    'group_id':'habr',\n",
    "    'v': 5.73,\n",
    "#     'offset': 800000, #превышает кол-во участников группы\n",
    "    'access_token': token\n",
    "}\n",
    "r = requests.get(url, params = params)\n",
    "data = r.json()\n",
    "user_ids = data['response']['items'][:1000]\n",
    "len(user_ids)"
   ]
  },
  {
   "cell_type": "code",
   "execution_count": 40,
   "metadata": {},
   "outputs": [
    {
     "data": {
      "text/plain": [
       "10"
      ]
     },
     "execution_count": 40,
     "metadata": {},
     "output_type": "execute_result"
    }
   ],
   "source": [
    "rows_limit = 100\n",
    "user_lists = []\n",
    "position = 0\n",
    "while position < len(user_ids):\n",
    "    user_lists.append(user_ids[position:position + rows_limit])\n",
    "    position += rows_limit\n",
    "len(user_lists)"
   ]
  },
  {
   "cell_type": "code",
   "execution_count": 41,
   "metadata": {},
   "outputs": [],
   "source": [
    "url = 'https://api.vk.com/method/users.get?'\n",
    "city_dict = {'none': 1}\n",
    "for i in range(len(user_lists)):\n",
    "    for user in user_lists[i]:\n",
    "        params = {\n",
    "            'user_id': user,\n",
    "            'v': 5.52,\n",
    "            'fields': 'city',\n",
    "            'access_token': token\n",
    "        }\n",
    "        r = requests.get(url, params = params)\n",
    "        data = r.json()\n",
    "        if 'city' in data['response'][0]:\n",
    "            country = data['response'][0]['city']['title']\n",
    "            if country in city_dict:\n",
    "                city_dict[country]+=1\n",
    "            elif country not in city_dict:\n",
    "                city_dict[country] = 1\n",
    "        else:\n",
    "            city_dict['none'] += 1"
   ]
  },
  {
   "cell_type": "code",
   "execution_count": 42,
   "metadata": {},
   "outputs": [
    {
     "data": {
      "text/plain": [
       "{'none': 224,\n",
       " 'Saint Petersburg': 522,\n",
       " 'Moscow': 137,\n",
       " 'Boston': 1,\n",
       " 'Perm': 1,\n",
       " 'Auckland': 1,\n",
       " 'Mountain View': 1,\n",
       " 'Lviv': 1,\n",
       " 'Minsk': 1,\n",
       " 'Reykjavík': 1,\n",
       " 'Krasnoyarsk': 2,\n",
       " 'Volgograd': 1,\n",
       " 'Ufa': 2,\n",
       " 'Newark': 1,\n",
       " 'Phuket': 2,\n",
       " 'Berlin': 3,\n",
       " 'Nizhny Novgorod': 4,\n",
       " 'Paris': 2,\n",
       " 'Kraków': 1,\n",
       " 'Novosibirsk': 7,\n",
       " 'Proletarsk': 1,\n",
       " 'Orenburg': 2,\n",
       " 'New York City': 2,\n",
       " 'Belgorod': 2,\n",
       " 'Kazan': 4,\n",
       " 'Saratov': 3,\n",
       " 'Los Angeles': 1,\n",
       " 'Limassol': 1,\n",
       " 'Drug Krestyanina': 1,\n",
       " 'Stanley': 1,\n",
       " 'Yagotin': 1,\n",
       " 'Foster City': 1,\n",
       " 'Santa Clara': 1,\n",
       " 'Dolgoprudny': 1,\n",
       " 'Frankfurt am Main': 1,\n",
       " 'Radischevo': 1,\n",
       " 'Krasnodar': 2,\n",
       " 'Espoo': 1,\n",
       " 'Donetsk': 1,\n",
       " 'Novorossiysk': 1,\n",
       " 'Almaty': 2,\n",
       " 'Sochi': 1,\n",
       " 'Toronto': 1,\n",
       " 'München': 1,\n",
       " 'Tel Aviv': 2,\n",
       " 'Penza': 4,\n",
       " 'Barnaul': 1,\n",
       " 'Khimki': 1,\n",
       " 'Klintsy': 1,\n",
       " 'Burgas': 1,\n",
       " 'San Francisco': 2,\n",
       " 'Edinburgh': 1,\n",
       " 'Yekaterinburg': 4,\n",
       " 'Korolyov': 1,\n",
       " 'Feodosia': 1,\n",
       " 'Hamilton': 1,\n",
       " 'Sergiev Posad': 1,\n",
       " 'London': 3,\n",
       " 'Accra': 1,\n",
       " 'Petropavlovsk-Kamchatsky': 1,\n",
       " 'Gatchina': 1,\n",
       " 'Neftekamsk': 1,\n",
       " 'Klimovsk': 1,\n",
       " 'Cardiff': 1,\n",
       " 'Volzhsky': 1,\n",
       " 'Piter': 1,\n",
       " 'Sydney': 1,\n",
       " 'Fier': 1,\n",
       " 'Nottingham': 1,\n",
       " \"Xi'an\": 1,\n",
       " 'Yakutsk': 1,\n",
       " 'Rostov-on-Don': 1,\n",
       " 'Wrocław': 1,\n",
       " 'Pattaya': 1,\n",
       " 'Petrogradsky': 1,\n",
       " 'Podolsk': 1,\n",
       " 'Addis Ababa': 1,\n",
       " 'Seattle': 1,\n",
       " 'Pskov': 1,\n",
       " 'Hamburg': 1,\n",
       " 'Järvenpää': 1,\n",
       " 'Arkhangelsk': 1,\n",
       " 'Tbilisi': 1,\n",
       " 'Cherepovets': 1,\n",
       " 'Kubinka': 1,\n",
       " 'Tallinn': 1}"
      ]
     },
     "execution_count": 42,
     "metadata": {},
     "output_type": "execute_result"
    }
   ],
   "source": [
    "city_dict"
   ]
  },
  {
   "cell_type": "code",
   "execution_count": 43,
   "metadata": {},
   "outputs": [],
   "source": [
    "import pandas as pd \n"
   ]
  },
  {
   "cell_type": "code",
   "execution_count": 44,
   "metadata": {},
   "outputs": [],
   "source": [
    "df = pd.DataFrame.from_dict(city_dict, orient = 'index').reset_index()"
   ]
  },
  {
   "cell_type": "code",
   "execution_count": 45,
   "metadata": {},
   "outputs": [],
   "source": [
    "df.rename(columns = {'index':'city', 0: 'users'}, inplace = True)\n",
    "df = df.sort_values('users', ascending = False)"
   ]
  },
  {
   "cell_type": "code",
   "execution_count": 47,
   "metadata": {},
   "outputs": [],
   "source": [
    "df['category'] = df.apply(lambda x: x['city'] if x['users'] > 100 else 'Другие', axis = 1)  "
   ]
  },
  {
   "cell_type": "code",
   "execution_count": 48,
   "metadata": {},
   "outputs": [],
   "source": [
    "df = df.groupby('category').sum().head()"
   ]
  },
  {
   "cell_type": "code",
   "execution_count": 49,
   "metadata": {},
   "outputs": [
    {
     "data": {
      "text/plain": [
       "<matplotlib.axes._subplots.AxesSubplot at 0x7f9b1ddff2b0>"
      ]
     },
     "execution_count": 49,
     "metadata": {},
     "output_type": "execute_result"
    },
    {
     "data": {
      "image/png": "[encoded data removed]",
      "text/plain": [
       "<Figure size 504x504 with 1 Axes>"
      ]
     },
     "metadata": {},
     "output_type": "display_data"
    }
   ],
   "source": [
    "%matplotlib inline\n",
    "df.head().plot(kind = 'pie', y = 'users', figsize = (7,7))"
   ]
  },
  {
   "cell_type": "code",
   "execution_count": null,
   "metadata": {},
   "outputs": [],
   "source": []
  }
 ],
 "metadata": {
  "kernelspec": {
   "display_name": "Python 3",
   "language": "python",
   "name": "python3"
  },
  "language_info": {
   "codemirror_mode": {
    "name": "ipython",
    "version": 3
   },
   "file_extension": ".py",
   "mimetype": "text/x-python",
   "name": "python",
   "nbconvert_exporter": "python",
   "pygments_lexer": "ipython3",
   "version": "3.7.2"
  }
 },
 "nbformat": 4,
 "nbformat_minor": 2
}
