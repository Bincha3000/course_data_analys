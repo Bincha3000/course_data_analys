{
 "cells": [
  {
   "cell_type": "code",
   "execution_count": 69,
   "metadata": {},
   "outputs": [],
   "source": [
    "import requests \n",
    "from yaml import load\n",
    "f = open('config.yaml', mode='r', encoding='utf-8')\n",
    "config = load(f)\n",
    "token = config['access_token']"
   ]
  },
  {
   "cell_type": "code",
   "execution_count": 70,
   "metadata": {},
   "outputs": [],
   "source": [
    "url_act = 'https://api.vk.com/method/wall.get'\n",
    "params_habr = {\n",
    "    'domain': 'habr',\n",
    "    'filter': 'owen',\n",
    "    'count': 100,\n",
    "    'offset': 0,\n",
    "    'v': 5.73,\n",
    "    'access_token': token\n",
    "}\n",
    "data_h = requests.get(url, params = params_habr)"
   ]
  },
  {
   "cell_type": "code",
   "execution_count": 71,
   "metadata": {},
   "outputs": [],
   "source": [
    "stats_habr = {'likes': 0, 'comments': 0, 'reposts': 0}\n",
    "for record in data_h.json()['response']['items']:\n",
    "    stats_habr['likes'] += record['likes']['count']\n",
    "    stats_habr['comments'] += record['comments']['count']\n",
    "    stats_habr['reposts'] += record['reposts']['count']\n",
    "#stats_habr словарь с л.р.к группы хабр"
   ]
  },
  {
   "cell_type": "code",
   "execution_count": 72,
   "metadata": {},
   "outputs": [],
   "source": [
    "params_mech = {\n",
    "    'domain': 'popularmechanics',\n",
    "    'filter': 'owen',\n",
    "    'count': 100,\n",
    "    'offset': 0,\n",
    "    'v': 5.73,\n",
    "    'access_token': token\n",
    "}\n",
    "data_m = requests.get(url, params = params_habr)"
   ]
  },
  {
   "cell_type": "code",
   "execution_count": 73,
   "metadata": {},
   "outputs": [],
   "source": [
    "stats_mech = {'likes': 0, 'comments': 0, 'reposts': 0}\n",
    "for record in data_m.json()['response']['items']:\n",
    "    stats_mech['likes'] += record['likes']['count']\n",
    "    stats_mech['comments'] += record['comments']['count']\n",
    "    stats_mech['reposts'] += record['reposts']['count']\n",
    "#stats_mech словарь с л.р.к группы популярная механика"
   ]
  },
  {
   "cell_type": "code",
   "execution_count": 74,
   "metadata": {},
   "outputs": [],
   "source": [
    "url_count = 'https://api.vk.com/method/groups.getMembers'\n",
    "param_habr = {\n",
    "    'group_id': 'habr',\n",
    "    'count': 0,\n",
    "    'v': 5.92,\n",
    "    'access_token': token,\n",
    "}\n",
    "data_h_c = requests.get(url_count, params = param_habr)\n",
    "count_habr = data_h_c.json()['response']['count']"
   ]
  },
  {
   "cell_type": "code",
   "execution_count": 75,
   "metadata": {},
   "outputs": [],
   "source": [
    "param_mech = {\n",
    "    'group_id': 'popularmechanics',\n",
    "    'count': 0,\n",
    "    'v': 5.92,\n",
    "    'access_token':token,\n",
    "}\n",
    "data_m_c = requests.get(url_count, params = param_mech)\n",
    "count_mech = data_m_c.json()['response']['count']"
   ]
  },
  {
   "cell_type": "code",
   "execution_count": 76,
   "metadata": {},
   "outputs": [],
   "source": [
    "stats_mech = sum(stats_mech.values())\n",
    "stats_habr = sum(stats_habr.values())"
   ]
  },
  {
   "cell_type": "code",
   "execution_count": 85,
   "metadata": {},
   "outputs": [
    {
     "name": "stdout",
     "output_type": "stream",
     "text": [
      "У Habr показатель индекса вовлечённости лучше Популярной механики\n",
      "Habr: 56.88446014127144\n",
      "Популярная механика: 71.32449185526885\n"
     ]
    }
   ],
   "source": [
    "involvement_mech = count_mech/stats_mech\n",
    "involvement_habr = count_habr/stats_mech\n",
    "index = 'равен'\n",
    "if involvement_habr > involvement_mech:\n",
    "    index = 'хуже'\n",
    "else: \n",
    "    index = 'лучше'\n",
    "print('У Habr показатель индекса вовлечённости {} Популярной механики'.format(index))\n",
    "print('Habr: {}'.format(involvement_habr))\n",
    "print('Популярная механика: {}'.format(involvement_mech))"
   ]
  },
  {
   "cell_type": "code",
   "execution_count": null,
   "metadata": {},
   "outputs": [],
   "source": []
  },
  {
   "cell_type": "code",
   "execution_count": null,
   "metadata": {},
   "outputs": [],
   "source": []
  }
 ],
 "metadata": {
  "kernelspec": {
   "display_name": "Python 3",
   "language": "python",
   "name": "python3"
  },
  "language_info": {
   "codemirror_mode": {
    "name": "ipython",
    "version": 3
   },
   "file_extension": ".py",
   "mimetype": "text/x-python",
   "name": "python",
   "nbconvert_exporter": "python",
   "pygments_lexer": "ipython3",
   "version": "3.7.2"
  }
 },
 "nbformat": 4,
 "nbformat_minor": 2
}
