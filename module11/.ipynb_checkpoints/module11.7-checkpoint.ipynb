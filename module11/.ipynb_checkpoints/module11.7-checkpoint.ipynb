{
 "cells": [
  {
   "cell_type": "code",
   "execution_count": 1,
   "metadata": {},
   "outputs": [],
   "source": [
    "from yaml import load\n",
    "import requests"
   ]
  },
  {
   "cell_type": "code",
   "execution_count": 4,
   "metadata": {},
   "outputs": [],
   "source": [
    "f = open('config.yaml', mode = 'r', encoding = 'utf-8')\n",
    "config = load(f)\n",
    "token = config['access_token']"
   ]
  },
  {
   "cell_type": "code",
   "execution_count": 5,
   "metadata": {},
   "outputs": [
    {
     "name": "stdout",
     "output_type": "stream",
     "text": [
      "{'response': [{'bdate': '10.10.1984',\n",
      "               'city': {'id': 2, 'title': 'Saint Petersburg'},\n",
      "               'first_name': 'Pavel',\n",
      "               'id': 1,\n",
      "               'last_name': 'Durov',\n",
      "               'sex': 2},\n",
      "              {'first_name': 'Alexandra',\n",
      "               'id': 2,\n",
      "               'last_name': 'Vladimirova',\n",
      "               'sex': 1},\n",
      "              {'deactivated': 'deleted',\n",
      "               'first_name': 'DELETED',\n",
      "               'id': 3,\n",
      "               'last_name': '',\n",
      "               'sex': 0}]}\n"
     ]
    }
   ],
   "source": [
    "url = 'https://api.vk.com/method/users.get'\n",
    "params = {\n",
    "    'user_ids':'1,2,3',\n",
    "    'v': 5.73,\n",
    "    'fields': 'sex,bdate,city',\n",
    "    'access_token': token\n",
    "}\n",
    "from pprint import pprint\n",
    "data = requests.get(url, params = params)\n",
    "pprint(data.json())"
   ]
  },
  {
   "cell_type": "raw",
   "metadata": {},
   "source": []
  }
 ],
 "metadata": {
  "kernelspec": {
   "display_name": "Python 3",
   "language": "python",
   "name": "python3"
  },
  "language_info": {
   "codemirror_mode": {
    "name": "ipython",
    "version": 3
   },
   "file_extension": ".py",
   "mimetype": "text/x-python",
   "name": "python",
   "nbconvert_exporter": "python",
   "pygments_lexer": "ipython3",
   "version": "3.7.2"
  }
 },
 "nbformat": 4,
 "nbformat_minor": 2
}
