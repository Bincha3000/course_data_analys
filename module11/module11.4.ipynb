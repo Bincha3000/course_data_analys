{
 "cells": [
  {
   "cell_type": "code",
   "execution_count": 45,
   "metadata": {},
   "outputs": [
    {
     "name": "stdout",
     "output_type": "stream",
     "text": [
      "c4be99a1c4be99a1c4be99a11ec4d69fabcc4bec4be99a1988448275575aa37093fa547\n"
     ]
    }
   ],
   "source": [
    "import requests\n",
    "from yaml import load\n",
    "f = open('config.yaml', mode = 'r', encoding = 'utf-8')\n",
    "config = load(f)\n",
    "token = config['access_token']\n",
    "print(token)"
   ]
  },
  {
   "cell_type": "code",
   "execution_count": 48,
   "metadata": {},
   "outputs": [],
   "source": [
    "url = 'https://api.vk.com/method/users.get?'\n",
    "params = {\n",
    "    'user_id': 1,\n",
    "    'v': 5.52,\n",
    "    'fields': 'sex,bdate',\n",
    "    'access_token': token\n",
    "}\n"
   ]
  },
  {
   "cell_type": "code",
   "execution_count": 49,
   "metadata": {},
   "outputs": [
    {
     "data": {
      "text/plain": [
       "'{\"response\":[{\"id\":1,\"first_name\":\"Pavel\",\"last_name\":\"Durov\",\"sex\":2,\"bdate\":\"10.10.1984\"}]}'"
      ]
     },
     "execution_count": 49,
     "metadata": {},
     "output_type": "execute_result"
    }
   ],
   "source": [
    "r = requests.get(url, params = params)\n",
    "r.text"
   ]
  },
  {
   "cell_type": "code",
   "execution_count": 52,
   "metadata": {},
   "outputs": [
    {
     "name": "stdout",
     "output_type": "stream",
     "text": [
      "{'response': [{'bdate': '10.10.1984',\n",
      "               'first_name': 'Pavel',\n",
      "               'id': 1,\n",
      "               'last_name': 'Durov',\n",
      "               'sex': 2}]}\n"
     ]
    },
    {
     "data": {
      "text/plain": [
       "[{'id': 1,\n",
       "  'first_name': 'Pavel',\n",
       "  'last_name': 'Durov',\n",
       "  'sex': 2,\n",
       "  'bdate': '10.10.1984'}]"
      ]
     },
     "execution_count": 52,
     "metadata": {},
     "output_type": "execute_result"
    }
   ],
   "source": [
    "from pprint import pprint\n",
    "data = r.json()\n",
    "pprint(data)\n",
    "data['response']"
   ]
  },
  {
   "cell_type": "code",
   "execution_count": 53,
   "metadata": {},
   "outputs": [
    {
     "data": {
      "text/plain": [
       "{'id': 1,\n",
       " 'first_name': 'Pavel',\n",
       " 'last_name': 'Durov',\n",
       " 'sex': 2,\n",
       " 'bdate': '10.10.1984'}"
      ]
     },
     "execution_count": 53,
     "metadata": {},
     "output_type": "execute_result"
    }
   ],
   "source": [
    "data['response'][0]"
   ]
  },
  {
   "cell_type": "code",
   "execution_count": 54,
   "metadata": {},
   "outputs": [
    {
     "name": "stdout",
     "output_type": "stream",
     "text": [
      "10.10.1984\n"
     ]
    }
   ],
   "source": [
    "birthday = data['response'][0]['bdate']\n",
    "print(birthday)"
   ]
  },
  {
   "cell_type": "code",
   "execution_count": null,
   "metadata": {},
   "outputs": [],
   "source": []
  }
 ],
 "metadata": {
  "kernelspec": {
   "display_name": "Python 3",
   "language": "python",
   "name": "python3"
  },
  "language_info": {
   "codemirror_mode": {
    "name": "ipython",
    "version": 3
   },
   "file_extension": ".py",
   "mimetype": "text/x-python",
   "name": "python",
   "nbconvert_exporter": "python",
   "pygments_lexer": "ipython3",
   "version": "3.7.2"
  }
 },
 "nbformat": 4,
 "nbformat_minor": 2
}
