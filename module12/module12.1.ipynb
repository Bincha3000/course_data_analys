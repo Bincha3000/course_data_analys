{
 "cells": [
  {
   "cell_type": "code",
   "execution_count": 1,
   "metadata": {},
   "outputs": [],
   "source": [
    "import requests\n",
    "from yaml import load \n",
    "f = open('config.yaml', mode = 'r')\n",
    "config = load(f)\n",
    "token = config['token']\n",
    "API_URL = 'https://api-metrika.yandex.ru/stat/v1/data'"
   ]
  },
  {
   "cell_type": "code",
   "execution_count": 2,
   "metadata": {},
   "outputs": [],
   "source": [
    "startDate = '2018-02-12'\n",
    "endDate = '2018-02-18'\n",
    "counter = '21075004'"
   ]
  },
  {
   "cell_type": "code",
   "execution_count": 3,
   "metadata": {},
   "outputs": [],
   "source": [
    "dimensions = ['ym:s:date']\n",
    "metrics = ['ym:s:visits', 'ym:s:users', 'ym:s:pageviews', 'ym:s:percentNewVisitors']"
   ]
  },
  {
   "cell_type": "code",
   "execution_count": 5,
   "metadata": {},
   "outputs": [
    {
     "name": "stdout",
     "output_type": "stream",
     "text": [
      "ym:s:visits,ym:s:users,ym:s:pageviews,ym:s:percentNewVisitors\n"
     ]
    }
   ],
   "source": [
    "metrics_string = ','.join(metrics)\n",
    "print(metrics_string)"
   ]
  },
  {
   "cell_type": "code",
   "execution_count": 6,
   "metadata": {},
   "outputs": [],
   "source": [
    "dimensions_string = ','.join(dimensions)"
   ]
  },
  {
   "cell_type": "code",
   "execution_count": 7,
   "metadata": {},
   "outputs": [],
   "source": [
    "params = {\n",
    "    'date1': startDate,\n",
    "    'date2': endDate,\n",
    "    'id': counter,\n",
    "    'dimensions': dimensions_string,\n",
    "    'metrics': metrics_string,\n",
    "    'oauth_token': token\n",
    "}"
   ]
  },
  {
   "cell_type": "code",
   "execution_count": 8,
   "metadata": {},
   "outputs": [],
   "source": [
    "r = requests.get(API_URL, params = params)\n",
    "data = r.json()"
   ]
  },
  {
   "cell_type": "code",
   "execution_count": 9,
   "metadata": {},
   "outputs": [
    {
     "name": "stdout",
     "output_type": "stream",
     "text": [
      "{'data': [{'dimensions': [{'name': '2018-02-17'}],\n",
      "           'metrics': [480.0, 375.0, 921.0, 72.8]},\n",
      "          {'dimensions': [{'name': '2018-02-16'}],\n",
      "           'metrics': [403.0, 358.0, 668.0, 73.46368715]},\n",
      "          {'dimensions': [{'name': '2018-02-18'}],\n",
      "           'metrics': [329.0, 263.0, 696.0, 64.25855513]},\n",
      "          {'dimensions': [{'name': '2018-02-13'}],\n",
      "           'metrics': [320.0, 297.0, 471.0, 80.80808081]},\n",
      "          {'dimensions': [{'name': '2018-02-12'}],\n",
      "           'metrics': [310.0, 271.0, 487.0, 78.59778598]},\n",
      "          {'dimensions': [{'name': '2018-02-14'}],\n",
      "           'metrics': [308.0, 281.0, 508.0, 79.71530249]},\n",
      "          {'dimensions': [{'name': '2018-02-15'}],\n",
      "           'metrics': [308.0, 278.0, 482.0, 75.53956835]}],\n",
      " 'data_lag': 120,\n",
      " 'max': [480.0, 375.0, 921.0, 80.80808081],\n",
      " 'min': [308.0, 263.0, 471.0, 64.25855513],\n",
      " 'query': {'attribution': 'Last',\n",
      "           'auto_group_size': '1',\n",
      "           'currency': 'RUB',\n",
      "           'date1': '2018-02-12',\n",
      "           'date2': '2018-02-18',\n",
      "           'dimensions': ['ym:s:date'],\n",
      "           'group': 'Week',\n",
      "           'ids': [21075004],\n",
      "           'limit': 100,\n",
      "           'metrics': ['ym:s:visits',\n",
      "                       'ym:s:users',\n",
      "                       'ym:s:pageviews',\n",
      "                       'ym:s:percentNewVisitors'],\n",
      "           'offline_window': '21',\n",
      "           'offset': 1,\n",
      "           'quantile': '50',\n",
      "           'sort': ['-ym:s:visits']},\n",
      " 'sample_share': 1.0,\n",
      " 'sample_size': 2458,\n",
      " 'sample_space': 2458,\n",
      " 'sampled': False,\n",
      " 'total_rows': 7,\n",
      " 'total_rows_rounded': False,\n",
      " 'totals': [2458.0, 1853.0, 4233.0, 85.91473287]}\n"
     ]
    }
   ],
   "source": [
    "from pprint import pprint\n",
    "pprint(data)"
   ]
  },
  {
   "cell_type": "code",
   "execution_count": 11,
   "metadata": {},
   "outputs": [
    {
     "name": "stdout",
     "output_type": "stream",
     "text": [
      "[{'dimensions': [{'name': '2018-02-17'}], 'metrics': [480.0, 375.0, 921.0, 72.8]}, {'dimensions': [{'name': '2018-02-16'}], 'metrics': [403.0, 358.0, 668.0, 73.46368715]}, {'dimensions': [{'name': '2018-02-18'}], 'metrics': [329.0, 263.0, 696.0, 64.25855513]}, {'dimensions': [{'name': '2018-02-13'}], 'metrics': [320.0, 297.0, 471.0, 80.80808081]}, {'dimensions': [{'name': '2018-02-12'}], 'metrics': [310.0, 271.0, 487.0, 78.59778598]}, {'dimensions': [{'name': '2018-02-14'}], 'metrics': [308.0, 281.0, 508.0, 79.71530249]}, {'dimensions': [{'name': '2018-02-15'}], 'metrics': [308.0, 278.0, 482.0, 75.53956835]}]\n"
     ]
    }
   ],
   "source": [
    "print(data['data'])"
   ]
  },
  {
   "cell_type": "code",
   "execution_count": 12,
   "metadata": {},
   "outputs": [
    {
     "name": "stdout",
     "output_type": "stream",
     "text": [
      "{'dimensions': [{'name': '2018-02-17'}], 'metrics': [480.0, 375.0, 921.0, 72.8]}\n",
      "{'dimensions': [{'name': '2018-02-16'}], 'metrics': [403.0, 358.0, 668.0, 73.46368715]}\n",
      "{'dimensions': [{'name': '2018-02-18'}], 'metrics': [329.0, 263.0, 696.0, 64.25855513]}\n",
      "{'dimensions': [{'name': '2018-02-13'}], 'metrics': [320.0, 297.0, 471.0, 80.80808081]}\n",
      "{'dimensions': [{'name': '2018-02-12'}], 'metrics': [310.0, 271.0, 487.0, 78.59778598]}\n",
      "{'dimensions': [{'name': '2018-02-14'}], 'metrics': [308.0, 281.0, 508.0, 79.71530249]}\n",
      "{'dimensions': [{'name': '2018-02-15'}], 'metrics': [308.0, 278.0, 482.0, 75.53956835]}\n"
     ]
    }
   ],
   "source": [
    "for line in data['data']:\n",
    "    print(line)"
   ]
  },
  {
   "cell_type": "code",
   "execution_count": 13,
   "metadata": {},
   "outputs": [
    {
     "name": "stdout",
     "output_type": "stream",
     "text": [
      "2018-02-17 480.0 375.0 921.0 72.8\n",
      "2018-02-16 403.0 358.0 668.0 73.46368715\n",
      "2018-02-18 329.0 263.0 696.0 64.25855513\n",
      "2018-02-13 320.0 297.0 471.0 80.80808081\n",
      "2018-02-12 310.0 271.0 487.0 78.59778598\n",
      "2018-02-14 308.0 281.0 508.0 79.71530249\n",
      "2018-02-15 308.0 278.0 482.0 75.53956835\n"
     ]
    }
   ],
   "source": [
    "for line in data['data']:\n",
    "    visit_date = line['dimensions'][0]['name']\n",
    "    visits = line['metrics'][0]\n",
    "    users = line['metrics'][1]\n",
    "    pageviews = line['metrics'][2]\n",
    "    percent_new_visitors = line['metrics'][3]\n",
    "    print(visit_date, visits, users, pageviews, percent_new_visitors)"
   ]
  },
  {
   "cell_type": "code",
   "execution_count": 19,
   "metadata": {},
   "outputs": [
    {
     "name": "stdout",
     "output_type": "stream",
     "text": [
      "Среднее значение доли новых посетителей 0.75\n"
     ]
    }
   ],
   "source": [
    "new_users = 0\n",
    "all_users = 0\n",
    "for line in data['data']:\n",
    "    new_users += (line['metrics'][1] / 100) * line['metrics'][3]\n",
    "    all_users += line['metrics'][1]\n",
    "print('Среднее значение доли новых посетителей {}'.format(round((new_users/all_users),2)))"
   ]
  },
  {
   "cell_type": "code",
   "execution_count": null,
   "metadata": {},
   "outputs": [],
   "source": []
  }
 ],
 "metadata": {
  "kernelspec": {
   "display_name": "Python 3",
   "language": "python",
   "name": "python3"
  },
  "language_info": {
   "codemirror_mode": {
    "name": "ipython",
    "version": 3
   },
   "file_extension": ".py",
   "mimetype": "text/x-python",
   "name": "python",
   "nbconvert_exporter": "python",
   "pygments_lexer": "ipython3",
   "version": "3.7.2"
  }
 },
 "nbformat": 4,
 "nbformat_minor": 2
}
