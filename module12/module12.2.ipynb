{
 "cells": [
  {
   "cell_type": "code",
   "execution_count": 7,
   "metadata": {},
   "outputs": [],
   "source": [
    "import requests \n",
    "from yaml import load \n",
    "f = open('config.yaml', 'r')\n",
    "config = load(f)\n",
    "token = config['token']\n",
    "API_URL = 'https://api-metrika.yandex.ru/stat/v1/data'\n",
    "startDate = '2018-02-12'\n",
    "endDate = '2018-02-18'\n",
    "counter = '21075004'"
   ]
  },
  {
   "cell_type": "code",
   "execution_count": 35,
   "metadata": {},
   "outputs": [],
   "source": [
    "preset = 'traffic'\n",
    "filters = \"ym:s:regionCountryName=='Россия'\"\n",
    "params = {\n",
    "    'date1': startDate,\n",
    "    'date2':endDate,\n",
    "    'id': counter,\n",
    "    'preset': preset,\n",
    "    'oauth_token': token,\n",
    "    'filters':filters\n",
    "}\n",
    "r = requests.get(API_URL, params = params)\n",
    "data = r.json()\n",
    "rus_visits = data['data'][0]['metrics'][0]"
   ]
  },
  {
   "cell_type": "code",
   "execution_count": 36,
   "metadata": {},
   "outputs": [],
   "source": [
    "preset = 'traffic'\n",
    "params = {\n",
    "    'date1': startDate,\n",
    "    'date2':endDate,\n",
    "    'id': counter,\n",
    "    'preset': preset,\n",
    "    'oauth_token': token,\n",
    "}\n",
    "r = requests.get(API_URL, params = params)\n",
    "data = r.json()\n",
    "all_visits = data['data'][0]['metrics'][0]"
   ]
  },
  {
   "cell_type": "code",
   "execution_count": 37,
   "metadata": {},
   "outputs": [
    {
     "data": {
      "text/plain": [
       "0.93"
      ]
     },
     "execution_count": 37,
     "metadata": {},
     "output_type": "execute_result"
    }
   ],
   "source": [
    "round(rus_visits/all_visits, 2)"
   ]
  },
  {
   "cell_type": "code",
   "execution_count": null,
   "metadata": {},
   "outputs": [],
   "source": []
  }
 ],
 "metadata": {
  "kernelspec": {
   "display_name": "Python 3",
   "language": "python",
   "name": "python3"
  },
  "language_info": {
   "codemirror_mode": {
    "name": "ipython",
    "version": 3
   },
   "file_extension": ".py",
   "mimetype": "text/x-python",
   "name": "python",
   "nbconvert_exporter": "python",
   "pygments_lexer": "ipython3",
   "version": "3.7.2"
  }
 },
 "nbformat": 4,
 "nbformat_minor": 2
}
