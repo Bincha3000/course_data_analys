{
 "cells": [
  {
   "cell_type": "code",
   "execution_count": 1,
   "metadata": {},
   "outputs": [],
   "source": [
    "import requests\n",
    "from yaml import load\n",
    "from pprint import pprint\n",
    "f = open('config.yaml', 'r')\n",
    "config = load(f)\n",
    "token = config['token']\n",
    "API_URL = 'https://api-metrika.yandex.ru/stat/v1/data'\n",
    "startDate = '2018-02-12'\n",
    "endDate = '2018-02-18'\n",
    "counter = '21075004'\n",
    "metrics = ['ym:s:visits']\n",
    "dimensions = ['ym:s:dateTime']"
   ]
  },
  {
   "cell_type": "code",
   "execution_count": 2,
   "metadata": {},
   "outputs": [],
   "source": [
    "metrics_string = ','.join(metrics)\n",
    "dimensions_string =','.join(dimensions)\n",
    "def report_for_offset_value(offset, n_rows):\n",
    "    params = {\n",
    "        'date1': startDate,\n",
    "        'date2': endDate,\n",
    "        'id': counter,\n",
    "        'dimensions': dimensions_string,\n",
    "        'metrics': metrics_string,\n",
    "        'oauth_token':token,\n",
    "        'offset': offset,\n",
    "        'limit': n_rows\n",
    "    }\n",
    "    r = requests.get(API_URL, params=params)\n",
    "    return r.json()"
   ]
  },
  {
   "cell_type": "code",
   "execution_count": 6,
   "metadata": {},
   "outputs": [],
   "source": [
    "n_rows = 1000\n",
    "offset = 1\n",
    "all_visits = 0\n",
    "Flag = True\n",
    "while Flag:\n",
    "    data = report_for_offset_value(offset, n_rows) \n",
    "    if len(data['data'])==0:\n",
    "        Flag = False\n",
    "    else:\n",
    "        for line in data['data']:\n",
    "            all_visits += line['metrics'][0]\n",
    "        offset += n_rows\n"
   ]
  },
  {
   "cell_type": "code",
   "execution_count": 77,
   "metadata": {},
   "outputs": [
    {
     "data": {
      "text/plain": [
       "2458.0"
      ]
     },
     "execution_count": 77,
     "metadata": {},
     "output_type": "execute_result"
    }
   ],
   "source": [
    "all_visits"
   ]
  },
  {
   "cell_type": "code",
   "execution_count": 4,
   "metadata": {},
   "outputs": [
    {
     "data": {
      "text/plain": [
       "{'query': {'ids': [21075004],\n",
       "  'dimensions': ['ym:s:dateTime'],\n",
       "  'metrics': ['ym:s:visits'],\n",
       "  'sort': ['-ym:s:visits'],\n",
       "  'date1': '2018-02-12',\n",
       "  'date2': '2018-02-18',\n",
       "  'limit': 1000,\n",
       "  'offset': 3001,\n",
       "  'group': 'Week',\n",
       "  'auto_group_size': '1',\n",
       "  'quantile': '50',\n",
       "  'offline_window': '21',\n",
       "  'attribution': 'Last',\n",
       "  'currency': 'RUB'},\n",
       " 'data': [],\n",
       " 'total_rows': 2449,\n",
       " 'total_rows_rounded': False,\n",
       " 'sampled': False,\n",
       " 'sample_share': 1.0,\n",
       " 'sample_size': 2458,\n",
       " 'sample_space': 2458,\n",
       " 'data_lag': 121,\n",
       " 'totals': [2458.0],\n",
       " 'min': [1.0],\n",
       " 'max': [2.0]}"
      ]
     },
     "execution_count": 4,
     "metadata": {},
     "output_type": "execute_result"
    }
   ],
   "source": [
    "data"
   ]
  },
  {
   "cell_type": "code",
   "execution_count": null,
   "metadata": {},
   "outputs": [],
   "source": []
  }
 ],
 "metadata": {
  "kernelspec": {
   "display_name": "Python 3",
   "language": "python",
   "name": "python3"
  },
  "language_info": {
   "codemirror_mode": {
    "name": "ipython",
    "version": 3
   },
   "file_extension": ".py",
   "mimetype": "text/x-python",
   "name": "python",
   "nbconvert_exporter": "python",
   "pygments_lexer": "ipython3",
   "version": "3.7.2"
  }
 },
 "nbformat": 4,
 "nbformat_minor": 2
}
