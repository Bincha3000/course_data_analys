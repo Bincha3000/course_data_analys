{
 "cells": [
  {
   "cell_type": "code",
   "execution_count": 15,
   "metadata": {},
   "outputs": [],
   "source": [
    "import json\n",
    "import requests\n",
    "from datetime import datetime, timedelta\n",
    "from pprint import pprint\n",
    "config = json.load( open('analytics.dat') )\n",
    "client_id = config['client_id']\n",
    "client_secret = config['client_secret']\n",
    "refresh_token = config['refresh_token']\n",
    "def update_token(client_id, client_secret, refresh_token):\n",
    "    \"\"\"Обновление токена для запросов к API. Возвращает токен\"\"\"    \n",
    "    url_token = 'https://accounts.google.com/o/oauth2/token'\n",
    "    params = { 'client_id' : client_id, 'client_secret' : client_secret, \n",
    "               'refresh_token' : refresh_token, 'grant_type' : 'refresh_token' }\n",
    "    r = requests.post( url_token, data = params )  \n",
    "    print('Токен выдан до {}'.format(datetime.today() + timedelta( hours = 1 )))\n",
    "    return r.json()['access_token']"
   ]
  },
  {
   "cell_type": "code",
   "execution_count": 16,
   "metadata": {},
   "outputs": [
    {
     "name": "stdout",
     "output_type": "stream",
     "text": [
      "Токен выдан до 2019-01-17 16:40:34.263045\n"
     ]
    }
   ],
   "source": [
    "token = update_token(client_id, client_secret, refresh_token)"
   ]
  },
  {
   "cell_type": "code",
   "execution_count": 17,
   "metadata": {},
   "outputs": [],
   "source": [
    "url = 'https://analyticsreporting.googleapis.com/v4/reports:batchGet'\n",
    "profile_id = '71639180'\n",
    "start_date = '2018-01-01'\n",
    "end_date = '2018-01-07'\n",
    "metrics = [ { 'expression': 'ga:sessions' }, { 'expression': 'ga:pageviews' } ]\n",
    "dimensions = [ { 'name': 'ga:date' } ]"
   ]
  },
  {
   "cell_type": "code",
   "execution_count": 18,
   "metadata": {},
   "outputs": [],
   "source": [
    "params = {\n",
    "    \"reportRequests\": [\n",
    "        {\n",
    "            'viewId': profile_id,\n",
    "            'dateRanges': [ { 'startDate': start_date, 'endDate': end_date } ],\n",
    "            'metrics': metrics,\n",
    "            'dimensions': dimensions\n",
    "        } \n",
    "    ]\n",
    "}"
   ]
  },
  {
   "cell_type": "code",
   "execution_count": 19,
   "metadata": {},
   "outputs": [],
   "source": [
    "headers = { 'Authorization': 'Bearer ' + token }"
   ]
  },
  {
   "cell_type": "code",
   "execution_count": 20,
   "metadata": {},
   "outputs": [],
   "source": [
    "r = requests.post( url, json = params, headers = headers )"
   ]
  },
  {
   "cell_type": "code",
   "execution_count": 27,
   "metadata": {},
   "outputs": [
    {
     "name": "stdout",
     "output_type": "stream",
     "text": [
      "{'reports': [{'columnHeader': {'dimensions': ['ga:date'],\n",
      "                               'metricHeader': {'metricHeaderEntries': [{'name': 'ga:sessions',\n",
      "                                                                         'type': 'INTEGER'},\n",
      "                                                                        {'name': 'ga:pageviews',\n",
      "                                                                         'type': 'INTEGER'}]}},\n",
      "              'data': {'isDataGolden': True,\n",
      "                       'maximums': [{'values': ['137', '194']}],\n",
      "                       'minimums': [{'values': ['71', '89']}],\n",
      "                       'rowCount': 7,\n",
      "                       'rows': [{'dimensions': ['20180101'],\n",
      "                                 'metrics': [{'values': ['71', '89']}]},\n",
      "                                {'dimensions': ['20180102'],\n",
      "                                 'metrics': [{'values': ['77', '106']}]},\n",
      "                                {'dimensions': ['20180103'],\n",
      "                                 'metrics': [{'values': ['137', '194']}]},\n",
      "                                {'dimensions': ['20180104'],\n",
      "                                 'metrics': [{'values': ['125', '151']}]},\n",
      "                                {'dimensions': ['20180105'],\n",
      "                                 'metrics': [{'values': ['119', '171']}]},\n",
      "                                {'dimensions': ['20180106'],\n",
      "                                 'metrics': [{'values': ['110', '161']}]},\n",
      "                                {'dimensions': ['20180107'],\n",
      "                                 'metrics': [{'values': ['125', '165']}]}],\n",
      "                       'totals': [{'values': ['764', '1037']}]}}]}\n"
     ]
    }
   ],
   "source": [
    "pprint(r.json())\n"
   ]
  },
  {
   "cell_type": "code",
   "execution_count": 60,
   "metadata": {},
   "outputs": [
    {
     "name": "stdout",
     "output_type": "stream",
     "text": [
      "764\n"
     ]
    }
   ],
   "source": [
    "tmp = 0\n",
    "for i in range(len(r.json()['reports'][0]['data']['rows'])):\n",
    "    tmp += int(r.json()['reports'][0]['data']['rows'][i]['metrics'][0]['values'][0])\n",
    "print(tmp)"
   ]
  },
  {
   "cell_type": "code",
   "execution_count": null,
   "metadata": {},
   "outputs": [],
   "source": []
  }
 ],
 "metadata": {
  "kernelspec": {
   "display_name": "Python 3",
   "language": "python",
   "name": "python3"
  },
  "language_info": {
   "codemirror_mode": {
    "name": "ipython",
    "version": 3
   },
   "file_extension": ".py",
   "mimetype": "text/x-python",
   "name": "python",
   "nbconvert_exporter": "python",
   "pygments_lexer": "ipython3",
   "version": "3.7.2"
  }
 },
 "nbformat": 4,
 "nbformat_minor": 2
}
