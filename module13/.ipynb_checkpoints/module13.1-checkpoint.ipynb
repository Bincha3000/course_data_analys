{
 "cells": [
  {
   "cell_type": "code",
   "execution_count": 4,
   "metadata": {},
   "outputs": [
    {
     "name": "stdout",
     "output_type": "stream",
     "text": [
      "Requirement already up-to-date: google-api-python-client in /home/vladislav/anaconda3/lib/python3.7/site-packages (1.7.7)\n",
      "Requirement already satisfied, skipping upgrade: google-auth-httplib2>=0.0.3 in /home/vladislav/anaconda3/lib/python3.7/site-packages (from google-api-python-client) (0.0.3)\n",
      "Requirement already satisfied, skipping upgrade: uritemplate<4dev,>=3.0.0 in /home/vladislav/anaconda3/lib/python3.7/site-packages (from google-api-python-client) (3.0.0)\n",
      "Requirement already satisfied, skipping upgrade: httplib2<1dev,>=0.9.2 in /home/vladislav/anaconda3/lib/python3.7/site-packages (from google-api-python-client) (0.12.0)\n",
      "Requirement already satisfied, skipping upgrade: google-auth>=1.4.1 in /home/vladislav/anaconda3/lib/python3.7/site-packages (from google-api-python-client) (1.6.2)\n",
      "Requirement already satisfied, skipping upgrade: six<2dev,>=1.6.1 in /home/vladislav/anaconda3/lib/python3.7/site-packages (from google-api-python-client) (1.11.0)\n",
      "Requirement already satisfied, skipping upgrade: cachetools>=2.0.0 in /home/vladislav/anaconda3/lib/python3.7/site-packages (from google-auth>=1.4.1->google-api-python-client) (3.0.0)\n",
      "Requirement already satisfied, skipping upgrade: pyasn1-modules>=0.2.1 in /home/vladislav/anaconda3/lib/python3.7/site-packages (from google-auth>=1.4.1->google-api-python-client) (0.2.2)\n",
      "Requirement already satisfied, skipping upgrade: rsa>=3.1.4 in /home/vladislav/anaconda3/lib/python3.7/site-packages (from google-auth>=1.4.1->google-api-python-client) (4.0)\n",
      "Requirement already satisfied, skipping upgrade: pyasn1<0.5.0,>=0.4.1 in /home/vladislav/anaconda3/lib/python3.7/site-packages (from pyasn1-modules>=0.2.1->google-auth>=1.4.1->google-api-python-client) (0.4.4)\n"
     ]
    }
   ],
   "source": [
    "!pip install --upgrade google-api-python-client"
   ]
  },
  {
   "cell_type": "code",
   "execution_count": 36,
   "metadata": {},
   "outputs": [],
   "source": [
    "import argparse\n",
    "from apiclient.discovery import build\n",
    "import httplib2\n",
    "from oauth2client import client\n",
    "from oauth2client import file\n",
    "from oauth2client import tools"
   ]
  },
  {
   "cell_type": "code",
   "execution_count": 30,
   "metadata": {},
   "outputs": [
    {
     "name": "stdout",
     "output_type": "stream",
     "text": [
      "\n",
      "Your browser has been opened to visit:\n",
      "\n",
      "    https://accounts.google.com/o/oauth2/auth?client_id=895026458050-bm2v6kdlhe79i1ihpf3k9vkpvuluogvr.apps.googleusercontent.com&redirect_uri=http%3A%2F%2Flocalhost%3A8080%2F&scope=https%3A%2F%2Fwww.googleapis.com%2Fauth%2Fanalytics.readonly&access_type=offline&response_type=code\n",
      "\n",
      "If your browser is on a different machine then exit and re-run this\n",
      "application with the command-line parameter\n",
      "\n",
      "  --noauth_local_webserver\n",
      "\n",
      "Authentication successful.\n"
     ]
    }
   ],
   "source": [
    "scope = ['https://www.googleapis.com/auth/analytics.readonly']\n",
    "api_name = 'analytics'\n",
    "api_version = 'v3'\n",
    "client_secrets_path = 'client_secret.json'\n",
    "parser = argparse.ArgumentParser(formatter_class=argparse.RawDescriptionHelpFormatter, parents=[tools.argparser])\n",
    "flags = parser.parse_args([])\n",
    "flow = client.flow_from_clientsecrets(client_secrets_path, scope=scope, message=tools.message_if_missing(client_secrets_path))\n",
    "storage = file.Storage(api_name + '.dat')\n",
    "credentials = storage.get()\n",
    "credentials = tools.run_flow(flow, storage, flags)"
   ]
  },
  {
   "cell_type": "code",
   "execution_count": 37,
   "metadata": {},
   "outputs": [],
   "source": [
    "http = credentials.authorize(http=httplib2.Http())\n",
    "service = build(api_name, api_version, http=http)"
   ]
  },
  {
   "cell_type": "code",
   "execution_count": 38,
   "metadata": {},
   "outputs": [],
   "source": [
    "profile_id = '71639180'"
   ]
  },
  {
   "cell_type": "code",
   "execution_count": 39,
   "metadata": {},
   "outputs": [
    {
     "data": {
      "text/plain": [
       "{'kind': 'analytics#gaData',\n",
       " 'id': 'https://www.googleapis.com/analytics/v3/data/ga?ids=ga:71639180&dimensions=ga:source,ga:browser&metrics=ga:visits&sort=-ga:visits&filters=ga:medium%3D%3Dorganic&start-date=2018-01-01&end-date=2018-01-15&start-index=1&max-results=25',\n",
       " 'query': {'start-date': '2018-01-01',\n",
       "  'end-date': '2018-01-15',\n",
       "  'ids': 'ga:71639180',\n",
       "  'dimensions': 'ga:source,ga:browser',\n",
       "  'metrics': ['ga:visits'],\n",
       "  'sort': ['-ga:visits'],\n",
       "  'filters': 'ga:medium==organic',\n",
       "  'start-index': 1,\n",
       "  'max-results': 25},\n",
       " 'itemsPerPage': 25,\n",
       " 'totalResults': 31,\n",
       " 'selfLink': 'https://www.googleapis.com/analytics/v3/data/ga?ids=ga:71639180&dimensions=ga:source,ga:browser&metrics=ga:visits&sort=-ga:visits&filters=ga:medium%3D%3Dorganic&start-date=2018-01-01&end-date=2018-01-15&start-index=1&max-results=25',\n",
       " 'nextLink': 'https://www.googleapis.com/analytics/v3/data/ga?ids=ga:71639180&dimensions=ga:source,ga:browser&metrics=ga:visits&sort=-ga:visits&filters=ga:medium%3D%3Dorganic&start-date=2018-01-01&end-date=2018-01-15&start-index=26&max-results=25',\n",
       " 'profileInfo': {'profileId': '71639180',\n",
       "  'accountId': '40356496',\n",
       "  'webPropertyId': 'UA-40356496-1',\n",
       "  'internalWebPropertyId': '69526380',\n",
       "  'profileName': 'Все данные по веб-сайту',\n",
       "  'tableId': 'ga:71639180'},\n",
       " 'containsSampledData': False,\n",
       " 'columnHeaders': [{'name': 'ga:source',\n",
       "   'columnType': 'DIMENSION',\n",
       "   'dataType': 'STRING'},\n",
       "  {'name': 'ga:browser', 'columnType': 'DIMENSION', 'dataType': 'STRING'},\n",
       "  {'name': 'ga:visits', 'columnType': 'METRIC', 'dataType': 'INTEGER'}],\n",
       " 'totalsForAllResults': {'ga:visits': '1660'},\n",
       " 'rows': [['google', 'Chrome', '782'],\n",
       "  ['google', 'Safari', '361'],\n",
       "  ['yandex', 'YaBrowser', '129'],\n",
       "  ['yandex', 'Chrome', '100'],\n",
       "  ['google', 'Opera', '49'],\n",
       "  ['yandex', 'Opera', '45'],\n",
       "  ['yandex', 'Firefox', '41'],\n",
       "  ['yandex', 'Android Webview', '28'],\n",
       "  ['yandex', 'Internet Explorer', '17'],\n",
       "  ['google', 'Android Webview', '15'],\n",
       "  ['google', 'Android Browser', '14'],\n",
       "  ['google', 'Firefox', '13'],\n",
       "  ['yandex', 'Safari', '13'],\n",
       "  ['google', 'YaBrowser', '10'],\n",
       "  ['google', 'Samsung Internet', '8'],\n",
       "  ['google', 'Internet Explorer', '7'],\n",
       "  ['google', 'Edge', '5'],\n",
       "  ['yandex', 'Samsung Internet', '5'],\n",
       "  ['yahoo', 'Safari', '3'],\n",
       "  ['yandex', 'Android Browser', '2'],\n",
       "  ['yandex', 'Edge', '2'],\n",
       "  ['yandex', 'MRCHROME', '2'],\n",
       "  ['bing', 'Chrome', '1'],\n",
       "  ['bing', 'Safari', '1'],\n",
       "  ['bing', 'YaBrowser', '1']]}"
      ]
     },
     "execution_count": 39,
     "metadata": {},
     "output_type": "execute_result"
    }
   ],
   "source": [
    "service.data().ga().get(\n",
    "    ids='ga:' + profile_id,\n",
    "    start_date='2018-01-01',\n",
    "    end_date='2018-01-15',\n",
    "    metrics='ga:visits',\n",
    "    dimensions='ga:source,ga:browser',\n",
    "    sort='-ga:visits',\n",
    "    filters='ga:medium==organic',\n",
    "    start_index='1',\n",
    "    max_results='25')\\\n",
    ".execute()"
   ]
  },
  {
   "cell_type": "code",
   "execution_count": null,
   "metadata": {},
   "outputs": [],
   "source": []
  }
 ],
 "metadata": {
  "kernelspec": {
   "display_name": "Python 3",
   "language": "python",
   "name": "python3"
  }
 },
 "nbformat": 4,
 "nbformat_minor": 2
}
