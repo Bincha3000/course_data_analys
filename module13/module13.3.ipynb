{
 "cells": [
  {
   "cell_type": "code",
   "execution_count": 1,
   "metadata": {},
   "outputs": [],
   "source": [
    "from oauth2client import file\n",
    "from apiclient.discovery import build\n",
    "import httplib2"
   ]
  },
  {
   "cell_type": "code",
   "execution_count": 2,
   "metadata": {},
   "outputs": [],
   "source": [
    "api_name = 'analytics'\n",
    "api_version = 'v3'"
   ]
  },
  {
   "cell_type": "code",
   "execution_count": 3,
   "metadata": {},
   "outputs": [],
   "source": [
    "storage = file.Storage(api_name + '.dat')\n",
    "credentials = storage.get()"
   ]
  },
  {
   "cell_type": "code",
   "execution_count": 4,
   "metadata": {},
   "outputs": [],
   "source": [
    "http = credentials.authorize(http=httplib2.Http())\n",
    "service = build(api_name, api_version, http=http)"
   ]
  },
  {
   "cell_type": "code",
   "execution_count": 5,
   "metadata": {},
   "outputs": [],
   "source": [
    "profile_id = '71639180'"
   ]
  },
  {
   "cell_type": "code",
   "execution_count": 17,
   "metadata": {},
   "outputs": [
    {
     "data": {
      "text/plain": [
       "{'kind': 'analytics#gaData',\n",
       " 'id': 'https://www.googleapis.com/analytics/v3/data/ga?ids=ga:71639180&dimensions=ga:dateHourMinute&metrics=ga:visits&sort=-ga:visits&filters=ga:medium%3D%3Dorganic&start-date=2018-02-12&end-date=2018-02-18&start-index=1&max-results=25',\n",
       " 'query': {'start-date': '2018-02-12',\n",
       "  'end-date': '2018-02-18',\n",
       "  'ids': 'ga:71639180',\n",
       "  'dimensions': 'ga:dateHourMinute',\n",
       "  'metrics': ['ga:visits'],\n",
       "  'sort': ['-ga:visits'],\n",
       "  'filters': 'ga:medium==organic',\n",
       "  'start-index': 1,\n",
       "  'max-results': 25},\n",
       " 'itemsPerPage': 25,\n",
       " 'totalResults': 2049,\n",
       " 'selfLink': 'https://www.googleapis.com/analytics/v3/data/ga?ids=ga:71639180&dimensions=ga:dateHourMinute&metrics=ga:visits&sort=-ga:visits&filters=ga:medium%3D%3Dorganic&start-date=2018-02-12&end-date=2018-02-18&start-index=1&max-results=25',\n",
       " 'nextLink': 'https://www.googleapis.com/analytics/v3/data/ga?ids=ga:71639180&dimensions=ga:dateHourMinute&metrics=ga:visits&sort=-ga:visits&filters=ga:medium%3D%3Dorganic&start-date=2018-02-12&end-date=2018-02-18&start-index=26&max-results=25',\n",
       " 'profileInfo': {'profileId': '71639180',\n",
       "  'accountId': '40356496',\n",
       "  'webPropertyId': 'UA-40356496-1',\n",
       "  'internalWebPropertyId': '69526380',\n",
       "  'profileName': 'Все данные по веб-сайту',\n",
       "  'tableId': 'ga:71639180'},\n",
       " 'containsSampledData': False,\n",
       " 'columnHeaders': [{'name': 'ga:dateHourMinute',\n",
       "   'columnType': 'DIMENSION',\n",
       "   'dataType': 'STRING'},\n",
       "  {'name': 'ga:visits', 'columnType': 'METRIC', 'dataType': 'INTEGER'}],\n",
       " 'totalsForAllResults': {'ga:visits': '1617'},\n",
       " 'rows': [['201802151309', '4'],\n",
       "  ['201802161811', '4'],\n",
       "  ['201802121822', '3'],\n",
       "  ['201802131346', '3'],\n",
       "  ['201802131415', '3'],\n",
       "  ['201802141633', '3'],\n",
       "  ['201802142155', '3'],\n",
       "  ['201802161601', '3'],\n",
       "  ['201802171434', '3'],\n",
       "  ['201802171947', '3'],\n",
       "  ['201802181933', '3'],\n",
       "  ['201802120827', '2'],\n",
       "  ['201802121015', '2'],\n",
       "  ['201802121459', '2'],\n",
       "  ['201802121735', '2'],\n",
       "  ['201802121742', '2'],\n",
       "  ['201802121749', '2'],\n",
       "  ['201802121811', '2'],\n",
       "  ['201802121857', '2'],\n",
       "  ['201802122001', '2'],\n",
       "  ['201802122022', '2'],\n",
       "  ['201802122049', '2'],\n",
       "  ['201802122057', '2'],\n",
       "  ['201802122058', '2'],\n",
       "  ['201802122123', '2']]}"
      ]
     },
     "execution_count": 17,
     "metadata": {},
     "output_type": "execute_result"
    }
   ],
   "source": [
    "data = service.data().ga().get(\n",
    "    ids='ga:' + profile_id,\n",
    "    start_date='2018-02-12',\n",
    "    end_date='2018-02-18',\n",
    "    metrics='ga:visits',\n",
    "    dimensions='ga:dateHourMinute',\n",
    "    sort='-ga:visits',\n",
    "    filters='ga:medium==organic',\n",
    "    start_index='1',\n",
    "    max_results='25')\\\n",
    ".execute()\n",
    "data"
   ]
  },
  {
   "cell_type": "code",
   "execution_count": 11,
   "metadata": {},
   "outputs": [
    {
     "data": {
      "text/plain": [
       "63"
      ]
     },
     "execution_count": 11,
     "metadata": {},
     "output_type": "execute_result"
    }
   ],
   "source": [
    "result = data['rows']\n",
    "visits = 0\n",
    "for visit in result:\n",
    "    visits +=int(visit[1])\n",
    "visits"
   ]
  },
  {
   "cell_type": "code",
   "execution_count": null,
   "metadata": {},
   "outputs": [],
   "source": []
  }
 ],
 "metadata": {
  "kernelspec": {
   "display_name": "Python 3",
   "language": "python",
   "name": "python3"
  },
  "language_info": {
   "codemirror_mode": {
    "name": "ipython",
    "version": 3
   },
   "file_extension": ".py",
   "mimetype": "text/x-python",
   "name": "python",
   "nbconvert_exporter": "python",
   "pygments_lexer": "ipython3",
   "version": "3.7.2"
  }
 },
 "nbformat": 4,
 "nbformat_minor": 2
}
