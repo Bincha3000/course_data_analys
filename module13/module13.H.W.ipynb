{
 "cells": [
  {
   "cell_type": "code",
   "execution_count": 1,
   "metadata": {},
   "outputs": [],
   "source": [
    "from oauth2client import file\n",
    "from apiclient.discovery import build\n",
    "import httplib2"
   ]
  },
  {
   "cell_type": "code",
   "execution_count": 2,
   "metadata": {},
   "outputs": [],
   "source": [
    "api_name = 'analytics'\n",
    "api_version = 'v3'"
   ]
  },
  {
   "cell_type": "code",
   "execution_count": 3,
   "metadata": {},
   "outputs": [],
   "source": [
    "storage = file.Storage(api_name + '.dat')\n",
    "credentials = storage.get()"
   ]
  },
  {
   "cell_type": "code",
   "execution_count": 5,
   "metadata": {},
   "outputs": [],
   "source": [
    "http = credentials.authorize(http=httplib2.Http())\n",
    "service = build(api_name, api_version, http=http)"
   ]
  },
  {
   "cell_type": "code",
   "execution_count": 6,
   "metadata": {},
   "outputs": [],
   "source": [
    "profile_id = '71639180'"
   ]
  },
  {
   "cell_type": "code",
   "execution_count": 37,
   "metadata": {},
   "outputs": [],
   "source": [
    "def report(start_index,max_results):\n",
    "    data = service.data().ga().get(\n",
    "        ids='ga:' + profile_id,\n",
    "        start_date='2018-02-12',\n",
    "        end_date='2018-02-18',\n",
    "        metrics='ga:visits',\n",
    "        dimensions='ga:dateHourMinute',\n",
    "        sort='-ga:visits',\n",
    "        filters='ga:medium==organic',\n",
    "        start_index=start_index,\n",
    "        max_results=max_results)\\\n",
    "    .execute()\n",
    "    return data"
   ]
  },
  {
   "cell_type": "code",
   "execution_count": 49,
   "metadata": {},
   "outputs": [
    {
     "name": "stdout",
     "output_type": "stream",
     "text": [
      "Начинаю выгрузку для start_index = 1\n",
      "Начинаю выгрузку для start_index = 501\n",
      "Начинаю выгрузку для start_index = 1001\n",
      "Начинаю выгрузку для start_index = 1501\n",
      "Начинаю выгрузку для start_index = 2001\n",
      "Начинаю выгрузку для start_index = 2501\n"
     ]
    }
   ],
   "source": [
    "start_index = 1\n",
    "max_results = 500\n",
    "results = []\n",
    "while True:\n",
    "    print('Начинаю выгрузку для start_index = {}'.format(start_index))\n",
    "#     print(data)\n",
    "    data = report(start_index, max_results)\n",
    "    if 'rows' not in data:\n",
    "        break\n",
    "    results += data['rows']\n",
    "    start_index += max_results"
   ]
  },
  {
   "cell_type": "code",
   "execution_count": 50,
   "metadata": {},
   "outputs": [],
   "source": [
    "tmp = 0\n",
    "for i in range(len(results)):\n",
    "    tmp += int(results[i][1])"
   ]
  },
  {
   "cell_type": "code",
   "execution_count": 51,
   "metadata": {},
   "outputs": [
    {
     "data": {
      "text/plain": [
       "1617"
      ]
     },
     "execution_count": 51,
     "metadata": {},
     "output_type": "execute_result"
    }
   ],
   "source": [
    "tmp"
   ]
  },
  {
   "cell_type": "code",
   "execution_count": null,
   "metadata": {},
   "outputs": [],
   "source": []
  }
 ],
 "metadata": {
  "kernelspec": {
   "display_name": "Python 3",
   "language": "python",
   "name": "python3"
  },
  "language_info": {
   "codemirror_mode": {
    "name": "ipython",
    "version": 3
   },
   "file_extension": ".py",
   "mimetype": "text/x-python",
   "name": "python",
   "nbconvert_exporter": "python",
   "pygments_lexer": "ipython3",
   "version": "3.7.2"
  }
 },
 "nbformat": 4,
 "nbformat_minor": 2
}
