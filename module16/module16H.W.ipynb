{
 "cells": [
  {
   "cell_type": "code",
   "execution_count": 1,
   "metadata": {},
   "outputs": [
    {
     "data": {
      "text/plain": [
       "'благодарн'"
      ]
     },
     "execution_count": 1,
     "metadata": {},
     "output_type": "execute_result"
    }
   ],
   "source": [
    "from nltk.stem import SnowballStemmer\n",
    "snowball_stemmer = SnowballStemmer( \"russian\" )\n",
    "snowball_stemmer.stem( 'благодарны' )"
   ]
  },
  {
   "cell_type": "code",
   "execution_count": 2,
   "metadata": {},
   "outputs": [
    {
     "name": "stdout",
     "output_type": "stream",
     "text": [
      "благодарн\n",
      "благодарн\n",
      "благодарн\n"
     ]
    }
   ],
   "source": [
    "for word in ['благодарность', 'благодарностью', 'благодарны']:\n",
    "    print(snowball_stemmer.stem( word ))"
   ]
  },
  {
   "cell_type": "code",
   "execution_count": 3,
   "metadata": {},
   "outputs": [],
   "source": [
    "from yaml import load\n",
    "params = load( open('params.yaml', mode = 'r', encoding = 'utf-8') )"
   ]
  },
  {
   "cell_type": "code",
   "execution_count": 4,
   "metadata": {},
   "outputs": [],
   "source": [
    "def clear_punctuation(text):\n",
    "    \"\"\"Удаление знаком пунктуации из текста text\"\"\"\n",
    "    symbols = '.,!()\"<>'\n",
    "    spaces = ' ' * len(symbols)\n",
    "    return text.translate( text.maketrans(symbols, spaces) )"
   ]
  },
  {
   "cell_type": "code",
   "execution_count": 5,
   "metadata": {},
   "outputs": [
    {
     "data": {
      "text/plain": [
       "'Просто шикарный клуб  Ходили с другом на  Animal Джаz   Остались очень довольны  атмосфера очень уютная  дружелюбная  есть второй этаж  бар'"
      ]
     },
     "execution_count": 5,
     "metadata": {},
     "output_type": "execute_result"
    }
   ],
   "source": [
    "clear_punctuation('Просто шикарный клуб! Ходили с другом на \"Animal Джаz\"! Остались очень довольны, атмосфера очень уютная, дружелюбная, есть второй этаж, бар')"
   ]
  },
  {
   "cell_type": "code",
   "execution_count": 6,
   "metadata": {},
   "outputs": [],
   "source": [
    "text = 'Просто шикарный клуб! Ходили с другом на \"Animal Джаz\"! Остались очень довольны, атмосфера очень уютная, дружелюбная, есть второй этаж, бар'\n",
    "text_no_punctuation = clear_punctuation(text)\n",
    "positive_words_list = [x for x in text_no_punctuation.split(' ') if snowball_stemmer.stem(x) in params['positive']]"
   ]
  },
  {
   "cell_type": "code",
   "execution_count": null,
   "metadata": {},
   "outputs": [],
   "source": []
  }
 ],
 "metadata": {
  "kernelspec": {
   "display_name": "Python 3",
   "language": "python",
   "name": "python3"
  },
  "language_info": {
   "codemirror_mode": {
    "name": "ipython",
    "version": 3
   },
   "file_extension": ".py",
   "mimetype": "text/x-python",
   "name": "python",
   "nbconvert_exporter": "python",
   "pygments_lexer": "ipython3",
   "version": "3.7.2"
  }
 },
 "nbformat": 4,
 "nbformat_minor": 2
}
