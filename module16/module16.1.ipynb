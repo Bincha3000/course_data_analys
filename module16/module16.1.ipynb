{
 "cells": [
  {
   "cell_type": "code",
   "execution_count": 1,
   "metadata": {},
   "outputs": [
    {
     "name": "stdout",
     "output_type": "stream",
     "text": [
      "Collecting pymystem3\n",
      "  Downloading https://files.pythonhosted.org/packages/00/8c/98b43c5822620458704e187a1666616c1e21a846ede8ffda493aabe11207/pymystem3-0.2.0-py3-none-any.whl\n",
      "Requirement already satisfied: requests in /home/vladislav/anaconda3/lib/python3.7/site-packages (from pymystem3) (2.7.0)\n",
      "Installing collected packages: pymystem3\n",
      "Successfully installed pymystem3-0.2.0\n"
     ]
    }
   ],
   "source": [
    "!pip install pymystem3"
   ]
  },
  {
   "cell_type": "code",
   "execution_count": 2,
   "metadata": {},
   "outputs": [
    {
     "name": "stderr",
     "output_type": "stream",
     "text": [
      "Installing mystem to /home/vladislav/.local/bin/mystem from http://download.cdn.yandex.net/mystem/mystem-3.1-linux-64bit.tar.gz\n"
     ]
    }
   ],
   "source": [
    "from pymystem3 import Mystem \n",
    "m = Mystem()"
   ]
  },
  {
   "cell_type": "code",
   "execution_count": 4,
   "metadata": {},
   "outputs": [
    {
     "name": "stdout",
     "output_type": "stream",
     "text": [
      "вк 1\n",
      "одноклассники 1\n",
      "порно 1\n",
      "ютуб 1\n",
      "вконтакте 1\n",
      "одноклассники моя страница 3\n",
      "майл 1\n",
      "авито 1\n",
      "переводчик 1\n",
      "яндекс 1\n",
      "сбербанк онлайн 2\n",
      "mail 1\n"
     ]
    }
   ],
   "source": [
    "i = 0 \n",
    "with open('keywords.txt', 'r', encoding = 'utf-8') as f:\n",
    "    for line in f:\n",
    "        line = line .strip().split('\\t')\n",
    "        word = line[0]\n",
    "        wordCount = line[1]\n",
    "        print(word, wordCount)\n",
    "        if i > 10:\n",
    "            break\n",
    "        i += 1"
   ]
  },
  {
   "cell_type": "code",
   "execution_count": 5,
   "metadata": {},
   "outputs": [
    {
     "name": "stdout",
     "output_type": "stream",
     "text": [
      "вк вк\n",
      "\n",
      "одноклассники одноклассник\n",
      "\n",
      "порно порно\n",
      "\n",
      "ютуб ютуб\n",
      "\n",
      "вконтакте вконтакте\n",
      "\n",
      "одноклассники моя страница одноклассник мой страница\n",
      "\n",
      "майл майл\n",
      "\n",
      "авито авито\n",
      "\n",
      "переводчик переводчик\n",
      "\n",
      "яндекс яндекс\n",
      "\n",
      "сбербанк онлайн сбербанк онлайн\n",
      "\n",
      "mail mail\n",
      "\n"
     ]
    }
   ],
   "source": [
    "i = 0 \n",
    "with open('keywords.txt', 'r', encoding = 'utf-8') as f:\n",
    "    for line in f:\n",
    "        line = line .strip().split('\\t')\n",
    "        word = line[0]\n",
    "        wordCount = line[1]\n",
    "        lemmas = m.lemmatize(word)\n",
    "        print(word, ''.join(lemmas))\n",
    "        if i > 10:\n",
    "            break\n",
    "        i += 1"
   ]
  },
  {
   "cell_type": "code",
   "execution_count": 9,
   "metadata": {},
   "outputs": [
    {
     "name": "stdout",
     "output_type": "stream",
     "text": [
      "и\n",
      "хрюкотать\n",
      "зелюк\n",
      "как\n",
      "мюмзик\n",
      "в\n",
      "мов\n"
     ]
    }
   ],
   "source": [
    "string = 'и хрюкотали зелюки как мюмзики в мове'\n",
    "for word in string.split(' '):\n",
    "    print(''.join(m.lemmatize(word)), end = '')"
   ]
  },
  {
   "cell_type": "code",
   "execution_count": 13,
   "metadata": {},
   "outputs": [
    {
     "name": "stdout",
     "output_type": "stream",
     "text": [
      "вк вк\n",
      "одноклассники одноклассник\n",
      "порно порн\n",
      "ютуб ютуб\n",
      "вконтакте вконтакт\n",
      "одноклассники моя страница одноклассники моя страниц\n",
      "майл майл\n",
      "авито авит\n",
      "переводчик переводчик\n",
      "яндекс яндекс\n",
      "сбербанк онлайн сбербанк онлайн\n",
      "mail ma\n"
     ]
    }
   ],
   "source": [
    "from nltk.stem import SnowballStemmer\n",
    "snowball_stemmer = SnowballStemmer('russian')\n",
    "i = 0\n",
    "with open('keywords.txt', 'r', encoding = 'utf-8') as f:\n",
    "    for line in f:\n",
    "        line = line.strip().split('\\t')\n",
    "        word = line[0]\n",
    "        wordCount = line[1]\n",
    "        stem = snowball_stemmer.stem(word)\n",
    "        print(word, ''.join(stem))\n",
    "        if i > 10:\n",
    "            break\n",
    "        i += 1"
   ]
  },
  {
   "cell_type": "code",
   "execution_count": null,
   "metadata": {},
   "outputs": [],
   "source": []
  }
 ],
 "metadata": {
  "kernelspec": {
   "display_name": "Python 3",
   "language": "python",
   "name": "python3"
  },
  "language_info": {
   "codemirror_mode": {
    "name": "ipython",
    "version": 3
   },
   "file_extension": ".py",
   "mimetype": "text/x-python",
   "name": "python",
   "nbconvert_exporter": "python",
   "pygments_lexer": "ipython3",
   "version": "3.7.2"
  }
 },
 "nbformat": 4,
 "nbformat_minor": 2
}
