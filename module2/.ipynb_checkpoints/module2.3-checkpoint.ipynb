{
 "cells": [
  {
   "cell_type": "code",
   "execution_count": null,
   "metadata": {},
   "outputs": [],
   "source": [
    "users_stats_dict = {}\n",
    "i = 0\n",
    "with open('data_no_header.txt', 'r') as f:\n",
    "    for line in f:\n",
    "        line = line.strip().split('\\t')\n",
    "        current_user_id = line[2]\n",
    "        # если ID пользователя уже есть в нашем словаре, то добавляем ему +1\n",
    "\n",
    "        if current_user_id in users_stats_dict:\n",
    "\n",
    "            users_stats_dict[ current_user_id ] += 1\n",
    "\n",
    "        # если ID пользователя еще нет в словаре, то создаем для него ключ со значением 1\n",
    "\n",
    "        else:\n",
    "\n",
    "            users_stats_dict[ current_user_id ] = 1\n",
    "\n",
    "        \n",
    "\n",
    "        print( 'Текущий ID: {}'.format( current_user_id ) )\n",
    "\n",
    "        print( users_stats_dict )\n",
    "\n",
    "        print( '' )\n",
    "\n",
    "        \n",
    "\n",
    "        # если прошли более 5 шагов, то выходим из цикла - это для того, чтобы посмотреть, что у нас получается (команда break)\n",
    "\n",
    "        i += 1\n",
    "\n",
    "        if i > 5:\n",
    "\n",
    "            break"
   ]
  }
 ],
 "metadata": {
  "kernelspec": {
   "display_name": "Python 3",
   "language": "python",
   "name": "python3"
  },
  "language_info": {
   "codemirror_mode": {
    "name": "ipython",
    "version": 3
   },
   "file_extension": ".py",
   "mimetype": "text/x-python",
   "name": "python",
   "nbconvert_exporter": "python",
   "pygments_lexer": "ipython3",
   "version": "3.7.0"
  }
 },
 "nbformat": 4,
 "nbformat_minor": 2
}
