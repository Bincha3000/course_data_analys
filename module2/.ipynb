{
 "cells": [
  {
   "cell_type": "code",
   "execution_count": 6,
   "metadata": {},
   "outputs": [
    {
     "name": "stdout",
     "output_type": "stream",
     "text": [
      "124\n"
     ]
    }
   ],
   "source": [
    "user_ids = []\n",
    "unique_ids = []\n",
    "with open('user_ids.txt', 'r') as f:\n",
    "    for line in f:\n",
    "        user_id = line.strip()\n",
    "        user_ids.append(user_id)\n",
    "unique_ids = set(user_ids)\n",
    "# print(len(unique_ids))"
   ]
  },
  {
   "cell_type": "code",
   "execution_count": 9,
   "metadata": {},
   "outputs": [
    {
     "ename": "SyntaxError",
     "evalue": "unexpected EOF while parsing (<ipython-input-9-119ce9e6f386>, line 7)",
     "output_type": "error",
     "traceback": [
      "\u001b[0;36m  File \u001b[0;32m\"<ipython-input-9-119ce9e6f386>\"\u001b[0;36m, line \u001b[0;32m7\u001b[0m\n\u001b[0;31m    #             print(line.strip())\u001b[0m\n\u001b[0m                                     ^\u001b[0m\n\u001b[0;31mSyntaxError\u001b[0m\u001b[0;31m:\u001b[0m unexpected EOF while parsing\n"
     ]
    }
   ],
   "source": [
    "started = True\n",
    "with open('user_ids_headers.txt', 'r') as f:\n",
    "    for line in f:\n",
    "        if started:\n",
    "            started = False\n",
    "        else:\n",
    "#             print(line.strip())"
   ]
  },
  {
   "cell_type": "code",
   "execution_count": 19,
   "metadata": {},
   "outputs": [],
   "source": [
    "with open('data_3_columns.txt', 'r') as f:\n",
    "    for line in f:\n",
    "        line = line.strip().split('\\t')\n",
    "        medium = line[0]\n",
    "        source = line[1]\n",
    "        amount_paid = float(line[2].replace(',', '.'))\n",
    "#         print(line)\n",
    "#         print(source, medium, amount_paid)\n",
    "        "
   ]
  },
  {
   "cell_type": "code",
   "execution_count": 26,
   "metadata": {},
   "outputs": [],
   "source": [
    "total_sum = 0\n",
    "with open('data_3_columns.txt', 'r') as f:\n",
    "    for line in f:\n",
    "        line = line.strip().split('\\t')\n",
    "        medium = line[0]\n",
    "        source = line[1]\n",
    "        amount_paid = float(line[2].replace(',', '.'))\n",
    "        if source == 'yandex' and medium == 'seo':\n",
    "            total_sum += amount_paid\n",
    "#             print('Текущая сумма расходов: {:.2f}'.format( total_sum ))"
   ]
  },
  {
   "cell_type": "code",
   "execution_count": null,
   "metadata": {},
   "outputs": [],
   "source": []
  }
 ],
 "metadata": {
  "kernelspec": {
   "display_name": "Python 3",
   "language": "python",
   "name": "python3"
  },
  "language_info": {
   "codemirror_mode": {
    "name": "ipython",
    "version": 3
   },
   "file_extension": ".py",
   "mimetype": "text/x-python",
   "name": "python",
   "nbconvert_exporter": "python",
   "pygments_lexer": "ipython3",
   "version": "3.7.0"
  }
 },
 "nbformat": 4,
 "nbformat_minor": 2
}
