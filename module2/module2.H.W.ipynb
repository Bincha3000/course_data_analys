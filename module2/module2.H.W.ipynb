{
 "cells": [
  {
   "cell_type": "code",
   "execution_count": 11,
   "metadata": {},
   "outputs": [
    {
     "data": {
      "text/plain": [
       "{'search engines seo expensive': 47,\n",
       " 'search engines seo cheap': 121,\n",
       " 'other cheap': 74,\n",
       " 'search engines brand expensive': 4,\n",
       " 'other expensive': 39,\n",
       " 'search engines brand cheap': 9}"
      ]
     },
     "execution_count": 11,
     "metadata": {},
     "output_type": "execute_result"
    }
   ],
   "source": [
    "def source_type_classification(line):\n",
    "    source = line[5]\n",
    "    medium = line[4]\n",
    "    amount_paid = float(line[-1].replace(',', '.'))\n",
    "    if amount_paid >= 20:\n",
    "        orderType = 'expensive'\n",
    "    else:\n",
    "        orderType = 'cheap'\n",
    "    if source == 'google' or source == 'yandex':\n",
    "        if medium == 'seo' or medium == 'sem':\n",
    "            sourceType = 'search engines seo'\n",
    "        elif medium == 'brand':\n",
    "            sourceType = 'search engines brand'\n",
    "        else:\n",
    "            sourceType = 'search engines undefined'\n",
    "    else:\n",
    "        sourceType = 'other'\n",
    "    return sourceType, orderType\n",
    "\n",
    "\n",
    "source_type_stats = {}\n",
    "with open('data_no_header.txt', 'r') as f:\n",
    "    for line in f:\n",
    "        line = line.strip().split('\\t')\n",
    "        sourceType, orderType = source_type_classification(line)\n",
    "        source_order_type = sourceType + ' ' + orderType\n",
    "        if source_order_type in source_type_stats:\n",
    "            source_type_stats[ source_order_type ] += 1\n",
    "        else:\n",
    "            source_type_stats[ source_order_type ] = 1\n",
    "source_type_stats"
   ]
  },
  {
   "cell_type": "code",
   "execution_count": 13,
   "metadata": {},
   "outputs": [
    {
     "data": {
      "text/plain": [
       "4"
      ]
     },
     "execution_count": 13,
     "metadata": {},
     "output_type": "execute_result"
    }
   ],
   "source": [
    "cpa_commission = {\n",
    "    'burgerclub': 0.3,\n",
    "    'food-delivery': 0.25\n",
    "}\n",
    "\n",
    "cpc_commission = {\n",
    "    'city-magazine': 7,\n",
    "    'foody': 9\n",
    "}\n",
    "fixed_commission = 4\n",
    "def costs_classification( amount_paid, source ):\n",
    "    if source in cpa_commission:\n",
    "        return amount_paid * cpa_commission[ source ]\n",
    "    if source in cpc_commission:\n",
    "        return cpc_commission[ source ]\n",
    "    return fixed_commission\n",
    "costs_classification( 10, 'google' )"
   ]
  },
  {
   "cell_type": "code",
   "execution_count": 33,
   "metadata": {
    "scrolled": true
   },
   "outputs": [
    {
     "name": "stdout",
     "output_type": "stream",
     "text": [
      "google\t3.19\n",
      "yandex\t3.29\n",
      "promo\t3.34\n",
      "burgerclub\t1.64\n",
      "food-delivery\t1.56\n",
      "city-magazine\t1.26\n",
      "foody\t1.42\n",
      "newsletter\t3.91\n",
      "facebook\t3.53\n",
      "direct\t3.42\n",
      "vk\t2.62\n"
     ]
    }
   ],
   "source": [
    "def costs_classification( amount_paid, source ):\n",
    "    if source in cpa_commission:\n",
    "        return amount_paid * cpa_commission[ source ]\n",
    "    if source in cpc_commission:\n",
    "        return cpc_commission[ source ]\n",
    "    return fixed_commission\n",
    "\n",
    "def expense_and_income( line ):\n",
    "    source = line[5]\n",
    "    amount_paid = float( line[-1].replace( ',', '.' ) )\n",
    "    cost = float( line[6].replace( ',', '.' ) )\n",
    "    partner_comission = costs_classification( amount_paid, source )\n",
    "    return source, cost + partner_comission, amount_paid\n",
    "\n",
    "\n",
    "roi_stats = {}\n",
    "with open( 'data_no_header.txt', 'r' ) as f:\n",
    "    for line in f:\n",
    "        line = line.strip().split('\\t')\n",
    "        source, cost, income = expense_and_income( line )\n",
    "        if source in roi_stats:\n",
    "            roi_stats[source]['cost'] += cost\n",
    "            roi_stats[source]['income'] += income\n",
    "        else:\n",
    "            roi_stats[source] = {}\n",
    "            roi_stats[source]['cost'] = cost\n",
    "            roi_stats[source]['income'] = income\n",
    "        for source, data in roi_stats.items():\n",
    "            data['roi'] = (data['income'] - data['cost']) / data['cost']\n",
    "for source, data in roi_stats.items():\n",
    "    print('{}\\t{:.2f}'.format(source, data['roi']))"
   ]
  },
  {
   "cell_type": "code",
   "execution_count": 41,
   "metadata": {},
   "outputs": [
    {
     "name": "stdout",
     "output_type": "stream",
     "text": [
      "search engines seo\t3.23\n",
      "other\t2.68\n",
      "search engines brand\t3.51\n"
     ]
    },
    {
     "data": {
      "text/plain": [
       "{'search engines seo': {'cost': 686.2699999999992,\n",
       "  'income': 2902.4,\n",
       "  'roi': 3.2292392207148843},\n",
       " 'other': {'cost': 541.1059999999999,\n",
       "  'income': 1992.7999999999997,\n",
       "  'roi': 2.682827394262862},\n",
       " 'search engines brand': {'cost': 52.0,\n",
       "  'income': 234.60000000000005,\n",
       "  'roi': 3.5115384615384624}}"
      ]
     },
     "execution_count": 41,
     "metadata": {},
     "output_type": "execute_result"
    }
   ],
   "source": [
    "def costs_classification( amount_paid, source ):\n",
    "    if source in cpa_commission:\n",
    "        return amount_paid * cpa_commission[ source ]\n",
    "    if source in cpc_commission:\n",
    "        return cpc_commission[ source ]\n",
    "    return fixed_commission\n",
    "\n",
    "def expense_and_income( line ):\n",
    "    source = line[5]\n",
    "    amount_paid = float( line[-1].replace( ',', '.' ) )\n",
    "    cost = float( line[6].replace( ',', '.' ) )\n",
    "    medium = line[4]\n",
    "    if source == 'google' or source == 'yandex':\n",
    "        if medium == 'seo' or medium == 'sem':\n",
    "            type_ist = 'search engines seo'\n",
    "        elif medium == 'brand':\n",
    "            type_ist = 'search engines brand'\n",
    "        else:\n",
    "            type_ist = 'search engines undefined'\n",
    "    else:\n",
    "        type_ist = 'other'\n",
    "    partner_comission = costs_classification( amount_paid, source )\n",
    "    return type_ist, cost + partner_comission, amount_paid\n",
    "\n",
    "\n",
    "roi_stats = {}\n",
    "with open( 'data_no_header.txt', 'r' ) as f:\n",
    "    for line in f:\n",
    "        line = line.strip().split('\\t')\n",
    "        source, cost, income = expense_and_income( line )\n",
    "        if source in roi_stats:\n",
    "            roi_stats[source]['cost'] += cost\n",
    "            roi_stats[source]['income'] += income\n",
    "        else:\n",
    "            roi_stats[source] = {}\n",
    "            roi_stats[source]['cost'] = cost\n",
    "            roi_stats[source]['income'] = income\n",
    "        for source, data in roi_stats.items():\n",
    "            data['roi'] = (data['income'] - data['cost']) / data['cost']\n",
    "for source, data in roi_stats.items():\n",
    "    print('{}\\t{:.2f}'.format(source, data['roi']))\n",
    "roi_stats"
   ]
  },
  {
   "cell_type": "code",
   "execution_count": null,
   "metadata": {},
   "outputs": [],
   "source": []
  }
 ],
 "metadata": {
  "kernelspec": {
   "display_name": "Python 3",
   "language": "python",
   "name": "python3"
  },
  "language_info": {
   "codemirror_mode": {
    "name": "ipython",
    "version": 3
   },
   "file_extension": ".py",
   "mimetype": "text/x-python",
   "name": "python",
   "nbconvert_exporter": "python",
   "pygments_lexer": "ipython3",
   "version": "3.7.0"
  }
 },
 "nbformat": 4,
 "nbformat_minor": 2
}
