{
 "cells": [
  {
   "cell_type": "code",
   "execution_count": 1,
   "metadata": {},
   "outputs": [
    {
     "name": "stdout",
     "output_type": "stream",
     "text": [
      "Текущий ID: 1010\n",
      "{'1010': 1}\n",
      "\n",
      "Текущий ID: 1036\n",
      "{'1010': 1, '1036': 1}\n",
      "\n",
      "Текущий ID: 1041\n",
      "{'1010': 1, '1036': 1, '1041': 1}\n",
      "\n",
      "Текущий ID: 1041\n",
      "{'1010': 1, '1036': 1, '1041': 2}\n",
      "\n",
      "Текущий ID: 1042\n",
      "{'1010': 1, '1036': 1, '1041': 2, '1042': 1}\n",
      "\n",
      "Текущий ID: 1042\n",
      "{'1010': 1, '1036': 1, '1041': 2, '1042': 2}\n",
      "\n"
     ]
    }
   ],
   "source": [
    "users_stats_dict = {}\n",
    "i = 0\n",
    "with open('data_no_header.txt', 'r') as f:\n",
    "    for line in f:\n",
    "        line = line.strip().split('\\t')\n",
    "        current_user_id = line[2]\n",
    "        # если ID пользователя уже есть в нашем словаре, то добавляем ему +1\n",
    "        if current_user_id in users_stats_dict:\n",
    "            users_stats_dict[ current_user_id ] += 1\n",
    "        # если ID пользователя еще нет в словаре, то создаем для него ключ со значением 1\n",
    "        else:\n",
    "            users_stats_dict[ current_user_id ] = 1\n",
    "        print( 'Текущий ID: {}'.format( current_user_id ) )\n",
    "        print( users_stats_dict )\n",
    "        print( '' )\n",
    "        # если прошли более 5 шагов, то выходим из цикла - это для того, чтобы посмотреть, что у нас получается (команда break)\n",
    "        i += 1\n",
    "        if i > 5:\n",
    "            break"
   ]
  },
  {
   "cell_type": "code",
   "execution_count": 3,
   "metadata": {},
   "outputs": [],
   "source": [
    "users_stats_dict = {}\n",
    "i = 0\n",
    "with open('data_no_header.txt', 'r') as f:\n",
    "    for line in f:\n",
    "        line = line.strip().split('\\t')\n",
    "        current_user_id = line[2]\n",
    "        # если ID пользователя уже есть в нашем словаре, то добавляем ему +1\n",
    "        if current_user_id in users_stats_dict:\n",
    "            users_stats_dict[ current_user_id ] += 1\n",
    "        # если ID пользователя еще нет в словаре, то создаем для него ключ со значением 1\n",
    "        else:\n",
    "            users_stats_dict[ current_user_id ] = 1\n",
    "# users_stats_dict"
   ]
  },
  {
   "cell_type": "code",
   "execution_count": 5,
   "metadata": {},
   "outputs": [
    {
     "data": {
      "text/plain": [
       "'search engines seo'"
      ]
     },
     "execution_count": 5,
     "metadata": {},
     "output_type": "execute_result"
    }
   ],
   "source": [
    "with open( 'data_no_header.txt', 'r' ) as f:\n",
    "    for line in f:\n",
    "        line = line.strip().split('\\t')\n",
    "        source = line[5]\n",
    "        medium = line[4]\n",
    "        if source == 'google' or source == 'yandex':\n",
    "            if medium == 'seo' or medium == 'sem':\n",
    "                sourceType = 'search engines seo'\n",
    "            elif medium == 'brand':\n",
    "                sourceType = 'search engines brand'\n",
    "            else:\n",
    "                # если вдруг встретится другой вариант, то ставим \"undefined\"\n",
    "                sourceType = 'search engines undefined'\n",
    "        else:\n",
    "            sourceType = 'other'\n",
    "        # код с формированием словаря статистик\n",
    "sourceType"
   ]
  },
  {
   "cell_type": "code",
   "execution_count": 10,
   "metadata": {},
   "outputs": [
    {
     "data": {
      "text/plain": [
       "{'search engines seo': 168, 'other': 113, 'search engines brand': 13}"
      ]
     },
     "execution_count": 10,
     "metadata": {},
     "output_type": "execute_result"
    }
   ],
   "source": [
    "source_type_stats = {}\n",
    "with open('data_no_header.txt', 'r') as f:\n",
    "    for line in f:\n",
    "        line = line.strip().split('\\t')\n",
    "        source = line[5]\n",
    "        medium = line[4]\n",
    "        sourceType = source_type_classification(source, medium) \n",
    "        if sourceType in source_type_stats:\n",
    "            source_type_stats[ sourceType ] += 1\n",
    "        else:\n",
    "            source_type_stats[ sourceType ] = 1\n",
    "def source_type_classification( source, medium ):\n",
    "    if source == 'google' or source == 'yandex':\n",
    "        if medium == 'seo' or medium == 'sem':\n",
    "            return 'search engines seo'\n",
    "        elif medium == 'brand':\n",
    "            return 'search engines brand'\n",
    "        else:\n",
    "            # если вдруг встретится другой вариант, то ставим \"undefined\"\n",
    "            return 'search engines undefined'\n",
    "    else:\n",
    "        return 'other'\n",
    "source_type_classification('google', '123')\n",
    "source_type_stats"
   ]
  },
  {
   "cell_type": "code",
   "execution_count": null,
   "metadata": {},
   "outputs": [],
   "source": []
  }
 ],
 "metadata": {
  "kernelspec": {
   "display_name": "Python 3",
   "language": "python",
   "name": "python3"
  },
  "language_info": {
   "codemirror_mode": {
    "name": "ipython",
    "version": 3
   },
   "file_extension": ".py",
   "mimetype": "text/x-python",
   "name": "python",
   "nbconvert_exporter": "python",
   "pygments_lexer": "ipython3",
   "version": "3.7.0"
  }
 },
 "nbformat": 4,
 "nbformat_minor": 2
}
