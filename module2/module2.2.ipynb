{
 "cells": [
  {
   "cell_type": "code",
   "execution_count": 3,
   "metadata": {
    "scrolled": false
   },
   "outputs": [
    {
     "name": "stdout",
     "output_type": "stream",
     "text": [
      "(<Cell 'data'.A1>, <Cell 'data'.B1>, <Cell 'data'.C1>, <Cell 'data'.D1>, <Cell 'data'.E1>, <Cell 'data'.F1>, <Cell 'data'.G1>, <Cell 'data'.H1>, <Cell 'data'.I1>)\n",
      "medium\n"
     ]
    }
   ],
   "source": [
    "import openpyxl\n",
    "workbook = 'data.xlsx'\n",
    "sheetName = 'data'\n",
    "sheet = openpyxl.load_workbook(workbook)[sheetName]\n",
    "for line in sheet['A1:I1']:\n",
    "    print(line)\n",
    "    print(line[4].value)"
   ]
  },
  {
   "cell_type": "code",
   "execution_count": 8,
   "metadata": {
    "scrolled": true
   },
   "outputs": [
    {
     "name": "stdout",
     "output_type": "stream",
     "text": [
      "5129.8\n"
     ]
    }
   ],
   "source": [
    "import openpyxl\n",
    "workbook = 'data.xlsx'\n",
    "sheetName = 'data'\n",
    "sheet = openpyxl.load_workbook(workbook)[sheetName]\n",
    "total_amount_paid = 0\n",
    "for line in sheet['E2:I295']:\n",
    "    medium = line[0].value\n",
    "    source = line[1].value\n",
    "    amount_paid = line[4].value\n",
    "    total_amount_paid += amount_paid\n",
    "print(total_amount_paid)"
   ]
  },
  {
   "cell_type": "code",
   "execution_count": 12,
   "metadata": {},
   "outputs": [
    {
     "name": "stdout",
     "output_type": "stream",
     "text": [
      "Источник brand не найден в итоговой статистике\n",
      "1319\n",
      "1818\n",
      "1181\n"
     ]
    }
   ],
   "source": [
    "total_costs = {'google': 1319, 'yandex': 1818, 'promo': 1181}\n",
    "source = 'brand'\n",
    "if source in total_costs:\n",
    "    print('Расходы на источник {} составили {} рублей'.format(source, total_costs['google']))\n",
    "else:\n",
    "    print('Источник {} не найден в итоговой статистике'.format(source))\n",
    "for value in total_costs.values():\n",
    "    print(value)"
   ]
  },
  {
   "cell_type": "code",
   "execution_count": 14,
   "metadata": {},
   "outputs": [
    {
     "name": "stdout",
     "output_type": "stream",
     "text": [
      "Кампания google, цена клика 2.00 USD\n",
      "Кампания yandex, цена клика 1.67 USD\n"
     ]
    }
   ],
   "source": [
    "campaign_stats = {\n",
    "    'google': { 'cost': 1000, 'clicks': 500 },\n",
    "    'yandex': { 'cost': 1500, 'clicks': 900 }}\n",
    "for campaign, stats in campaign_stats.items():\n",
    "    print('Кампания {}, цена клика {:.2f} USD'.format(campaign, stats['cost'] / stats['clicks']))\n",
    "\n",
    "\n",
    "\n"
   ]
  },
  {
   "cell_type": "code",
   "execution_count": null,
   "metadata": {},
   "outputs": [],
   "source": []
  }
 ],
 "metadata": {
  "kernelspec": {
   "display_name": "Python 3",
   "language": "python",
   "name": "python3"
  },
  "language_info": {
   "codemirror_mode": {
    "name": "ipython",
    "version": 3
   },
   "file_extension": ".py",
   "mimetype": "text/x-python",
   "name": "python",
   "nbconvert_exporter": "python",
   "pygments_lexer": "ipython3",
   "version": "3.7.0"
  }
 },
 "nbformat": 4,
 "nbformat_minor": 2
}
