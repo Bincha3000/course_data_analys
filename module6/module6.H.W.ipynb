{
 "cells": [
  {
   "cell_type": "code",
   "execution_count": 13,
   "metadata": {},
   "outputs": [],
   "source": [
    "import pandas as pd\n",
    "import numpy as np \n",
    "ratings = pd.read_csv('ratings.csv')\n",
    "movies = pd.read_csv('movies.csv')\n",
    "joined = ratings.merge(movies,on='movieId',how='left')\n",
    "\n",
    "\n",
    "years = [int(i) for i in range(1950, 2011)]"
   ]
  },
  {
   "cell_type": "code",
   "execution_count": 31,
   "metadata": {},
   "outputs": [
    {
     "data": {
      "text/plain": [
       "100004"
      ]
     },
     "execution_count": 31,
     "metadata": {},
     "output_type": "execute_result"
    }
   ],
   "source": [
    "joined.head()"
   ]
  },
  {
   "cell_type": "code",
   "execution_count": 18,
   "metadata": {},
   "outputs": [],
   "source": [
    "def production_year(row):\n",
    "    for year in years:\n",
    "        if str(year) in row['title']:\n",
    "            return year\n",
    "    return 1990\n",
    "joined['year'] = joined.apply(production_year,axis=1)\n",
    "\n"
   ]
  },
  {
   "cell_type": "code",
   "execution_count": 26,
   "metadata": {},
   "outputs": [
    {
     "data": {
      "text/plain": [
       "year\n",
       "2000    3.356104\n",
       "1997    3.415764\n",
       "1996    3.426600\n",
       "2003    3.444777\n",
       "2005    3.448434\n",
       "2002    3.456297\n",
       "2001    3.460052\n",
       "1992    3.466754\n",
       "1999    3.471692\n",
       "1995    3.472118\n",
       "1998    3.472754\n",
       "2004    3.491490\n",
       "2008    3.498057\n",
       "2006    3.511478\n",
       "2009    3.520378\n",
       "1986    3.528265\n",
       "1989    3.534349\n",
       "1993    3.536664\n",
       "2010    3.537157\n",
       "1994    3.537963\n",
       "2007    3.548538\n",
       "1978    3.549003\n",
       "1988    3.552990\n",
       "1990    3.567110\n",
       "1985    3.588998\n",
       "1987    3.606015\n",
       "1956    3.617647\n",
       "1991    3.628265\n",
       "1982    3.638306\n",
       "1984    3.651486\n",
       "          ...   \n",
       "1961    3.663851\n",
       "1965    3.678715\n",
       "1970    3.700000\n",
       "1963    3.705966\n",
       "1980    3.708816\n",
       "1966    3.736726\n",
       "1968    3.737844\n",
       "1971    3.748830\n",
       "1955    3.751724\n",
       "1953    3.754587\n",
       "1981    3.758763\n",
       "1979    3.777966\n",
       "1973    3.806667\n",
       "1976    3.806794\n",
       "1960    3.809211\n",
       "1967    3.814516\n",
       "1969    3.817376\n",
       "1975    3.823077\n",
       "1958    3.823171\n",
       "1959    3.841033\n",
       "1964    3.841492\n",
       "1977    3.905786\n",
       "1950    3.915254\n",
       "1962    3.952446\n",
       "1974    3.978704\n",
       "1951    3.983539\n",
       "1954    3.994220\n",
       "1952    4.000000\n",
       "1972    4.011136\n",
       "1957    4.014241\n",
       "Name: rating, Length: 61, dtype: float64"
      ]
     },
     "execution_count": 26,
     "metadata": {},
     "output_type": "execute_result"
    }
   ],
   "source": [
    "joined.groupby('year').rating.mean().sort_values()"
   ]
  },
  {
   "cell_type": "code",
   "execution_count": null,
   "metadata": {},
   "outputs": [],
   "source": []
  }
 ],
 "metadata": {
  "kernelspec": {
   "display_name": "Python 3",
   "language": "python",
   "name": "python3"
  },
  "language_info": {
   "codemirror_mode": {
    "name": "ipython",
    "version": 3
   },
   "file_extension": ".py",
   "mimetype": "text/x-python",
   "name": "python",
   "nbconvert_exporter": "python",
   "pygments_lexer": "ipython3",
   "version": "3.7.0"
  }
 },
 "nbformat": 4,
 "nbformat_minor": 2
}
