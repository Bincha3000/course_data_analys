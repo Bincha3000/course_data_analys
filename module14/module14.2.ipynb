{
 "cells": [
  {
   "cell_type": "code",
   "execution_count": 117,
   "metadata": {},
   "outputs": [],
   "source": [
    "from yaml import load \n",
    "from datetime import datetime, timedelta\n",
    "import requests\n",
    "from pprint import pprint\n",
    "from oauth2client import client\n",
    "from oauth2client import tools\n",
    "from oauth2client.file import Storage\n",
    "import httplib2\n",
    "import argparse\n",
    "from apiclient import discovery"
   ]
  },
  {
   "cell_type": "code",
   "execution_count": 118,
   "metadata": {},
   "outputs": [],
   "source": [
    "SCOPES = 'https://www.googleapis.com/auth/spreadsheets'\n",
    "CLIENT_SECRET_FILE ='client_secret_grants.json'\n",
    "APPLICATION_NAME ='Google Sheets API Report'"
   ]
  },
  {
   "cell_type": "code",
   "execution_count": 119,
   "metadata": {},
   "outputs": [],
   "source": [
    "credential_path = 'sheets.googleapis.com-report.json'\n",
    "store = Storage(credential_path)\n",
    "credentials = store.get()\n",
    "parser = argparse.ArgumentParser(formatter_class=argparse.RawDescriptionHelpFormatter, parents=[tools.argparser])\n",
    "flags = parser.parse_args([])\n",
    "if not credentials or credentials.invalid:\n",
    "    flow = client.flow_from_clientsecrets(CLIENT_SECRET_FILE, SCOPES)\n",
    "    flow.user_agent = APPLICATION_NAME\n",
    "    if flags:\n",
    "        credentials = tools.run_flow(flow, store, flags)\n",
    "    print('Storing credentials to ' + credential_path)"
   ]
  },
  {
   "cell_type": "code",
   "execution_count": 120,
   "metadata": {},
   "outputs": [],
   "source": [
    "http = credentials.authorize(httplib2.Http())\n",
    "discoveryUrl = ('https://sheets.googleapis.com/$discovery/rest?version=v4')\n",
    "service = discovery.build('sheets', 'v4', http = http, discoveryServiceUrl = discoveryUrl)"
   ]
  },
  {
   "cell_type": "code",
   "execution_count": 121,
   "metadata": {},
   "outputs": [],
   "source": [
    "spreadsheetId = '1v_BJppYtDnFTZAIVH_crUMtkbrcShOS1cXCCPYBvb50'\n",
    "rangeName = 'partners dict!A1:C10'"
   ]
  },
  {
   "cell_type": "code",
   "execution_count": 122,
   "metadata": {},
   "outputs": [
    {
     "name": "stdout",
     "output_type": "stream",
     "text": [
      "[['Партнеры', 'utm_source', 'utm_medium'], ['СМИ2', 'smi2', 'cpm'], ['РБК', 'rbc', 'cpc'], ['Infox', 'infox', 'cpc'], ['Infox', 'infox-action', 'cpa']]\n"
     ]
    }
   ],
   "source": [
    "result = service.spreadsheets().values().get(spreadsheetId = spreadsheetId, range = rangeName).execute()\n",
    "values = result.get('values', [])\n",
    "print(values)"
   ]
  },
  {
   "cell_type": "code",
   "execution_count": 123,
   "metadata": {},
   "outputs": [],
   "source": [
    "f = open('config.yaml', 'r')\n",
    "config = load(f)\n",
    "token = config['token']\n",
    "f = open('report_params.yaml', 'r')\n",
    "params = load(f)\n",
    "API_URL = 'https://api-metrika.yandex.ru/stat/v1/data'\n",
    "startDate = (datetime.now() - timedelta(days = params['reports']['dau']['days_ago'])).strftime('%Y-%m-%d')\n",
    "endDate = (datetime.now() - timedelta(days = 1)).strftime('%Y-%m-%d')\n",
    "dimensions = params['reports']['dau']['dimensions']\n",
    "metrics = params['reports']['dau']['metrics']\n",
    "sortby = params['reports']['dau']['sort']\n",
    "counter = params['metrika counter']"
   ]
  },
  {
   "cell_type": "code",
   "execution_count": 124,
   "metadata": {},
   "outputs": [],
   "source": [
    "def make_request(**kwargs):\n",
    "    return requests.get(API_URL, params = kwargs).json()"
   ]
  },
  {
   "cell_type": "code",
   "execution_count": 125,
   "metadata": {},
   "outputs": [],
   "source": [
    "def json_handler(data):\n",
    "    report = []\n",
    "    for line in data['data']:\n",
    "        dimensions_list = [x['name'] for x in line['dimensions']]\n",
    "        metrics_list = line['metrics']\n",
    "        report.append(dimensions_list + metrics_list)\n",
    "    return report"
   ]
  },
  {
   "cell_type": "code",
   "execution_count": 126,
   "metadata": {},
   "outputs": [],
   "source": [
    "response = make_request(date1 = startDate, date2 = endDate, dimensions = dimensions, metrics = metrics, \n",
    "                    id = counter, sort = sortby, oauth_token = token, accuracy = 1)\n",
    "data = json_handler(response)\n",
    "range_data = params['reports']['dau']['range_name']\n",
    "range_name = '{}!{}{}:{}{}'.format(range_data['list'], range_data['start'], 2, range_data['end'], len(data) + 1)\n",
    "body = {'values': data}"
   ]
  },
  {
   "cell_type": "code",
   "execution_count": 127,
   "metadata": {},
   "outputs": [
    {
     "data": {
      "text/plain": [
       "{'spreadsheetId': '1v_BJppYtDnFTZAIVH_crUMtkbrcShOS1cXCCPYBvb50',\n",
       " 'updatedRange': 'daily_metrics!A2:E15',\n",
       " 'updatedRows': 14,\n",
       " 'updatedColumns': 5,\n",
       " 'updatedCells': 70}"
      ]
     },
     "execution_count": 127,
     "metadata": {},
     "output_type": "execute_result"
    }
   ],
   "source": [
    "service.spreadsheets().values().update( spreadsheetId = spreadsheetId, range = range_name, \n",
    "                    valueInputOption = 'USER_ENTERED', body = body ).execute()"
   ]
  },
  {
   "cell_type": "code",
   "execution_count": 128,
   "metadata": {},
   "outputs": [],
   "source": [
    "new_table = service.spreadsheets().values().get( spreadsheetId = spreadsheetId, range = range_name).execute()\n"
   ]
  },
  {
   "cell_type": "code",
   "execution_count": 129,
   "metadata": {},
   "outputs": [
    {
     "name": "stdout",
     "output_type": "stream",
     "text": [
      "[['2019-01-05', '79', '73', '146', '16,4556962'], ['2019-01-06', '73', '69', '101', '6,84931507'], ['2019-01-07', '74', '73', '113', '21,62162162'], ['2019-01-08', '94', '84', '126', '17,0212766'], ['2019-01-09', '118', '109', '196', '14,40677966'], ['2019-01-10', '120', '113', '199', '14,16666667'], ['2019-01-11', '139', '127', '212', '16,54676259'], ['2019-01-12', '139', '117', '224', '18,70503597'], ['2019-01-13', '155', '139', '274', '19,35483871'], ['2019-01-14', '186', '176', '264', '16,66666667'], ['2019-01-15', '165', '155', '271', '13,33333333'], ['2019-01-16', '167', '150', '292', '17,36526946'], ['2019-01-17', '180', '165', '300', '18,33333333'], ['2019-01-18', '175', '169', '337', '13,71428571']]\n"
     ]
    }
   ],
   "source": [
    "\n",
    "services = new_table.get('values', [])\n",
    "print(services)"
   ]
  },
  {
   "cell_type": "code",
   "execution_count": 131,
   "metadata": {},
   "outputs": [],
   "source": [
    "import pandas as pd\n",
    "rows = services[1:]"
   ]
  },
  {
   "cell_type": "code",
   "execution_count": 132,
   "metadata": {},
   "outputs": [],
   "source": [
    "data = pd.DataFrame.from_records(rows)"
   ]
  },
  {
   "cell_type": "code",
   "execution_count": 133,
   "metadata": {},
   "outputs": [
    {
     "data": {
      "text/html": [
       "<div>\n",
       "<style scoped>\n",
       "    .dataframe tbody tr th:only-of-type {\n",
       "        vertical-align: middle;\n",
       "    }\n",
       "\n",
       "    .dataframe tbody tr th {\n",
       "        vertical-align: top;\n",
       "    }\n",
       "\n",
       "    .dataframe thead th {\n",
       "        text-align: right;\n",
       "    }\n",
       "</style>\n",
       "<table border=\"1\" class=\"dataframe\">\n",
       "  <thead>\n",
       "    <tr style=\"text-align: right;\">\n",
       "      <th></th>\n",
       "      <th>0</th>\n",
       "      <th>1</th>\n",
       "      <th>2</th>\n",
       "      <th>3</th>\n",
       "      <th>4</th>\n",
       "    </tr>\n",
       "  </thead>\n",
       "  <tbody>\n",
       "    <tr>\n",
       "      <th>0</th>\n",
       "      <td>2019-01-06</td>\n",
       "      <td>73</td>\n",
       "      <td>69</td>\n",
       "      <td>101</td>\n",
       "      <td>6,84931507</td>\n",
       "    </tr>\n",
       "    <tr>\n",
       "      <th>1</th>\n",
       "      <td>2019-01-07</td>\n",
       "      <td>74</td>\n",
       "      <td>73</td>\n",
       "      <td>113</td>\n",
       "      <td>21,62162162</td>\n",
       "    </tr>\n",
       "    <tr>\n",
       "      <th>2</th>\n",
       "      <td>2019-01-08</td>\n",
       "      <td>94</td>\n",
       "      <td>84</td>\n",
       "      <td>126</td>\n",
       "      <td>17,0212766</td>\n",
       "    </tr>\n",
       "    <tr>\n",
       "      <th>3</th>\n",
       "      <td>2019-01-09</td>\n",
       "      <td>118</td>\n",
       "      <td>109</td>\n",
       "      <td>196</td>\n",
       "      <td>14,40677966</td>\n",
       "    </tr>\n",
       "    <tr>\n",
       "      <th>4</th>\n",
       "      <td>2019-01-10</td>\n",
       "      <td>120</td>\n",
       "      <td>113</td>\n",
       "      <td>199</td>\n",
       "      <td>14,16666667</td>\n",
       "    </tr>\n",
       "    <tr>\n",
       "      <th>5</th>\n",
       "      <td>2019-01-11</td>\n",
       "      <td>139</td>\n",
       "      <td>127</td>\n",
       "      <td>212</td>\n",
       "      <td>16,54676259</td>\n",
       "    </tr>\n",
       "    <tr>\n",
       "      <th>6</th>\n",
       "      <td>2019-01-12</td>\n",
       "      <td>139</td>\n",
       "      <td>117</td>\n",
       "      <td>224</td>\n",
       "      <td>18,70503597</td>\n",
       "    </tr>\n",
       "    <tr>\n",
       "      <th>7</th>\n",
       "      <td>2019-01-13</td>\n",
       "      <td>155</td>\n",
       "      <td>139</td>\n",
       "      <td>274</td>\n",
       "      <td>19,35483871</td>\n",
       "    </tr>\n",
       "    <tr>\n",
       "      <th>8</th>\n",
       "      <td>2019-01-14</td>\n",
       "      <td>186</td>\n",
       "      <td>176</td>\n",
       "      <td>264</td>\n",
       "      <td>16,66666667</td>\n",
       "    </tr>\n",
       "    <tr>\n",
       "      <th>9</th>\n",
       "      <td>2019-01-15</td>\n",
       "      <td>165</td>\n",
       "      <td>155</td>\n",
       "      <td>271</td>\n",
       "      <td>13,33333333</td>\n",
       "    </tr>\n",
       "    <tr>\n",
       "      <th>10</th>\n",
       "      <td>2019-01-16</td>\n",
       "      <td>167</td>\n",
       "      <td>150</td>\n",
       "      <td>292</td>\n",
       "      <td>17,36526946</td>\n",
       "    </tr>\n",
       "    <tr>\n",
       "      <th>11</th>\n",
       "      <td>2019-01-17</td>\n",
       "      <td>180</td>\n",
       "      <td>165</td>\n",
       "      <td>300</td>\n",
       "      <td>18,33333333</td>\n",
       "    </tr>\n",
       "    <tr>\n",
       "      <th>12</th>\n",
       "      <td>2019-01-18</td>\n",
       "      <td>175</td>\n",
       "      <td>169</td>\n",
       "      <td>337</td>\n",
       "      <td>13,71428571</td>\n",
       "    </tr>\n",
       "  </tbody>\n",
       "</table>\n",
       "</div>"
      ],
      "text/plain": [
       "             0    1    2    3            4\n",
       "0   2019-01-06   73   69  101   6,84931507\n",
       "1   2019-01-07   74   73  113  21,62162162\n",
       "2   2019-01-08   94   84  126   17,0212766\n",
       "3   2019-01-09  118  109  196  14,40677966\n",
       "4   2019-01-10  120  113  199  14,16666667\n",
       "5   2019-01-11  139  127  212  16,54676259\n",
       "6   2019-01-12  139  117  224  18,70503597\n",
       "7   2019-01-13  155  139  274  19,35483871\n",
       "8   2019-01-14  186  176  264  16,66666667\n",
       "9   2019-01-15  165  155  271  13,33333333\n",
       "10  2019-01-16  167  150  292  17,36526946\n",
       "11  2019-01-17  180  165  300  18,33333333\n",
       "12  2019-01-18  175  169  337  13,71428571"
      ]
     },
     "execution_count": 133,
     "metadata": {},
     "output_type": "execute_result"
    }
   ],
   "source": [
    "data"
   ]
  }
 ],
 "metadata": {
  "kernelspec": {
   "display_name": "Python 3",
   "language": "python",
   "name": "python3"
  },
  "language_info": {
   "codemirror_mode": {
    "name": "ipython",
    "version": 3
   },
   "file_extension": ".py",
   "mimetype": "text/x-python",
   "name": "python",
   "nbconvert_exporter": "python",
   "pygments_lexer": "ipython3",
   "version": "3.7.2"
  }
 },
 "nbformat": 4,
 "nbformat_minor": 2
}
