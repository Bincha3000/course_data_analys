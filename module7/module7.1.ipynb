{
 "cells": [
  {
   "cell_type": "code",
   "execution_count": 8,
   "metadata": {},
   "outputs": [],
   "source": [
    "import os\n",
    "files = os.listdir('data')\n",
    "files\n"
   ]
  },
  {
   "cell_type": "code",
   "execution_count": 9,
   "metadata": {},
   "outputs": [
    {
     "data": {
      "text/plain": [
       "['ratings_4.txt',\n",
       " 'ratings_7.txt',\n",
       " 'ratings_6.txt',\n",
       " 'ratings_8.txt',\n",
       " 'ratings_9.txt',\n",
       " 'ratings_2.txt',\n",
       " 'ratings_1.txt',\n",
       " 'ratings_3.txt',\n",
       " 'ratings_5.txt',\n",
       " 'ratings_10.txt']"
      ]
     },
     "execution_count": 9,
     "metadata": {},
     "output_type": "execute_result"
    }
   ],
   "source": [
    "files\n"
   ]
  },
  {
   "cell_type": "code",
   "execution_count": 81,
   "metadata": {},
   "outputs": [],
   "source": [
    "mixed_files = [\n",
    "\n",
    "'movies.csv',\n",
    "\n",
    "'notes.txt',\n",
    "\n",
    "'ratings.zip',\n",
    "\n",
    "'ratings_1.txt',\n",
    "\n",
    "'ratings_10.txt',\n",
    "\n",
    "'ratings_2.txt',\n",
    "\n",
    "'ratings_3.txt',\n",
    "\n",
    "'ratings_6.txt',\n",
    "\n",
    "'ratings_7.txt',\n",
    "\n",
    "'ratings_8.txt',\n",
    "\n",
    "'ratings_9.txt',\n",
    "\n",
    "'subfolder'\n",
    "\n",
    "]\n"
   ]
  },
  {
   "cell_type": "code",
   "execution_count": 83,
   "metadata": {},
   "outputs": [],
   "source": [
    "mixed_files = list(filter(lambda file: 'ratings_' in file and 'txt' in file, mixed_files))\n",
    "        "
   ]
  },
  {
   "cell_type": "code",
   "execution_count": 84,
   "metadata": {},
   "outputs": [
    {
     "data": {
      "text/plain": [
       "['ratings_1.txt',\n",
       " 'ratings_10.txt',\n",
       " 'ratings_2.txt',\n",
       " 'ratings_3.txt',\n",
       " 'ratings_6.txt',\n",
       " 'ratings_7.txt',\n",
       " 'ratings_8.txt',\n",
       " 'ratings_9.txt']"
      ]
     },
     "execution_count": 84,
     "metadata": {},
     "output_type": "execute_result"
    }
   ],
   "source": [
    "mixed_files"
   ]
  },
  {
   "cell_type": "code",
   "execution_count": 87,
   "metadata": {},
   "outputs": [],
   "source": [
    "level_0 = ['ratings_1.txt', 'ratings_10.txt', 'ratings_2.txt']\n",
    "\n",
    "level_1 = ['ratings_1_subfolder.txt', 'ratings_2_subfolder.txt', 'ratings_3_subfolder.txt']\n",
    "\n",
    "level_2 = ['ratings_logs_001.txt', 'ratings_logs_002.txt', 'ratings_logs_003.txt']\n",
    "\n"
   ]
  },
  {
   "cell_type": "code",
   "execution_count": 95,
   "metadata": {},
   "outputs": [],
   "source": [
    "file_sum = 0\n",
    "for i in range(len(level_0 + level_1 + level_2)):\n",
    "    file_sum += 1"
   ]
  },
  {
   "cell_type": "code",
   "execution_count": 96,
   "metadata": {},
   "outputs": [
    {
     "data": {
      "text/plain": [
       "9"
      ]
     },
     "execution_count": 96,
     "metadata": {},
     "output_type": "execute_result"
    }
   ],
   "source": [
    "file_sum"
   ]
  },
  {
   "cell_type": "code",
   "execution_count": null,
   "metadata": {},
   "outputs": [],
   "source": []
  }
 ],
 "metadata": {
  "kernelspec": {
   "display_name": "Python 3",
   "language": "python",
   "name": "python3"
  },
  "language_info": {
   "codemirror_mode": {
    "name": "ipython",
    "version": 3
   },
   "file_extension": ".py",
   "mimetype": "text/x-python",
   "name": "python",
   "nbconvert_exporter": "python",
   "pygments_lexer": "ipython3",
   "version": "3.7.0"
  }
 },
 "nbformat": 4,
 "nbformat_minor": 2
}
