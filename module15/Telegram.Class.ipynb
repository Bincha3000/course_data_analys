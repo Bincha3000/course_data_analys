{
 "cells": [
  {
   "cell_type": "code",
   "execution_count": 37,
   "metadata": {},
   "outputs": [],
   "source": [
    "import telegram \n",
    "from yaml import load"
   ]
  },
  {
   "cell_type": "code",
   "execution_count": 43,
   "metadata": {},
   "outputs": [],
   "source": [
    "with open('config.yaml', 'r')as f:\n",
    "    config = load(f)\n",
    "token = config['bot_token']"
   ]
  },
  {
   "cell_type": "code",
   "execution_count": 6,
   "metadata": {},
   "outputs": [
    {
     "name": "stdout",
     "output_type": "stream",
     "text": [
      "{'update_id': 341157795, 'message': {'message_id': 5, 'date': 1548340295, 'chat': {'id': 295719824, 'type': 'private', 'username': 'bincha', 'first_name': 'Binchous'}, 'text': 'dgfdgsfdg', 'entities': [], 'caption_entities': [], 'photo': [], 'new_chat_members': [], 'new_chat_photo': [], 'delete_chat_photo': False, 'group_chat_created': False, 'supergroup_chat_created': False, 'channel_chat_created': False, 'from': {'id': 295719824, 'first_name': 'Binchous', 'is_bot': False, 'username': 'bincha', 'language_code': 'ru'}}}\n",
      "{'update_id': 341157796, 'message': {'message_id': 6, 'date': 1548340296, 'chat': {'id': 295719824, 'type': 'private', 'username': 'bincha', 'first_name': 'Binchous'}, 'text': 'fgfdsgsdg', 'entities': [], 'caption_entities': [], 'photo': [], 'new_chat_members': [], 'new_chat_photo': [], 'delete_chat_photo': False, 'group_chat_created': False, 'supergroup_chat_created': False, 'channel_chat_created': False, 'from': {'id': 295719824, 'first_name': 'Binchous', 'is_bot': False, 'username': 'bincha', 'language_code': 'ru'}}}\n",
      "{'update_id': 341157797, 'message': {'message_id': 7, 'date': 1548340301, 'chat': {'id': 295719824, 'type': 'private', 'username': 'bincha', 'first_name': 'Binchous'}, 'text': 'sgsfgsdg', 'entities': [], 'caption_entities': [], 'photo': [], 'new_chat_members': [], 'new_chat_photo': [], 'delete_chat_photo': False, 'group_chat_created': False, 'supergroup_chat_created': False, 'channel_chat_created': False, 'from': {'id': 295719824, 'first_name': 'Binchous', 'is_bot': False, 'username': 'bincha', 'language_code': 'ru'}}}\n",
      "{'update_id': 341157798, 'message': {'message_id': 8, 'date': 1548340301, 'chat': {'id': 295719824, 'type': 'private', 'username': 'bincha', 'first_name': 'Binchous'}, 'text': 'fgdsgdsgfdsg', 'entities': [], 'caption_entities': [], 'photo': [], 'new_chat_members': [], 'new_chat_photo': [], 'delete_chat_photo': False, 'group_chat_created': False, 'supergroup_chat_created': False, 'channel_chat_created': False, 'from': {'id': 295719824, 'first_name': 'Binchous', 'is_bot': False, 'username': 'bincha', 'language_code': 'ru'}}}\n",
      "{'update_id': 341157799, 'message': {'message_id': 9, 'date': 1548344739, 'chat': {'id': 295719824, 'type': 'private', 'username': 'bincha', 'first_name': 'Binchous'}, 'text': 'авыаываыв', 'entities': [], 'caption_entities': [], 'photo': [], 'new_chat_members': [], 'new_chat_photo': [], 'delete_chat_photo': False, 'group_chat_created': False, 'supergroup_chat_created': False, 'channel_chat_created': False, 'from': {'id': 295719824, 'first_name': 'Binchous', 'is_bot': False, 'username': 'bincha', 'language_code': 'ru'}}}\n",
      "{'update_id': 341157800, 'message': {'message_id': 10, 'date': 1548344782, 'chat': {'id': 295719824, 'type': 'private', 'username': 'bincha', 'first_name': 'Binchous'}, 'text': 'ваап', 'entities': [], 'caption_entities': [], 'photo': [], 'new_chat_members': [], 'new_chat_photo': [], 'delete_chat_photo': False, 'group_chat_created': False, 'supergroup_chat_created': False, 'channel_chat_created': False, 'from': {'id': 295719824, 'first_name': 'Binchous', 'is_bot': False, 'username': 'bincha', 'language_code': 'ru'}}}\n",
      "{'update_id': 341157801, 'message': {'message_id': 11, 'date': 1548344783, 'chat': {'id': 295719824, 'type': 'private', 'username': 'bincha', 'first_name': 'Binchous'}, 'text': 'павпвп', 'entities': [], 'caption_entities': [], 'photo': [], 'new_chat_members': [], 'new_chat_photo': [], 'delete_chat_photo': False, 'group_chat_created': False, 'supergroup_chat_created': False, 'channel_chat_created': False, 'from': {'id': 295719824, 'first_name': 'Binchous', 'is_bot': False, 'username': 'bincha', 'language_code': 'ru'}}}\n",
      "{'update_id': 341157802, 'message': {'message_id': 12, 'date': 1548344785, 'chat': {'id': 295719824, 'type': 'private', 'username': 'bincha', 'first_name': 'Binchous'}, 'text': 'ывапвапыв', 'entities': [], 'caption_entities': [], 'photo': [], 'new_chat_members': [], 'new_chat_photo': [], 'delete_chat_photo': False, 'group_chat_created': False, 'supergroup_chat_created': False, 'channel_chat_created': False, 'from': {'id': 295719824, 'first_name': 'Binchous', 'is_bot': False, 'username': 'bincha', 'language_code': 'ru'}}}\n",
      "{'update_id': 341157803, 'message': {'message_id': 13, 'date': 1548344786, 'chat': {'id': 295719824, 'type': 'private', 'username': 'bincha', 'first_name': 'Binchous'}, 'text': 'впвыапывап', 'entities': [], 'caption_entities': [], 'photo': [], 'new_chat_members': [], 'new_chat_photo': [], 'delete_chat_photo': False, 'group_chat_created': False, 'supergroup_chat_created': False, 'channel_chat_created': False, 'from': {'id': 295719824, 'first_name': 'Binchous', 'is_bot': False, 'username': 'bincha', 'language_code': 'ru'}}}\n",
      "{'update_id': 341157804, 'message': {'message_id': 14, 'date': 1548344826, 'chat': {'id': 295719824, 'type': 'private', 'username': 'bincha', 'first_name': 'Binchous'}, 'text': '/start', 'entities': [{'type': 'bot_command', 'offset': 0, 'length': 6}], 'caption_entities': [], 'photo': [], 'new_chat_members': [], 'new_chat_photo': [], 'delete_chat_photo': False, 'group_chat_created': False, 'supergroup_chat_created': False, 'channel_chat_created': False, 'from': {'id': 295719824, 'first_name': 'Binchous', 'is_bot': False, 'username': 'bincha', 'language_code': 'ru'}}}\n",
      "{'update_id': 341157805, 'message': {'message_id': 15, 'date': 1548344830, 'chat': {'id': 295719824, 'type': 'private', 'username': 'bincha', 'first_name': 'Binchous'}, 'text': 'вавыавыа', 'entities': [], 'caption_entities': [], 'photo': [], 'new_chat_members': [], 'new_chat_photo': [], 'delete_chat_photo': False, 'group_chat_created': False, 'supergroup_chat_created': False, 'channel_chat_created': False, 'from': {'id': 295719824, 'first_name': 'Binchous', 'is_bot': False, 'username': 'bincha', 'language_code': 'ru'}}}\n",
      "{'update_id': 341157806, 'message': {'message_id': 16, 'date': 1548344831, 'chat': {'id': 295719824, 'type': 'private', 'username': 'bincha', 'first_name': 'Binchous'}, 'text': 'фвавфаф', 'entities': [], 'caption_entities': [], 'photo': [], 'new_chat_members': [], 'new_chat_photo': [], 'delete_chat_photo': False, 'group_chat_created': False, 'supergroup_chat_created': False, 'channel_chat_created': False, 'from': {'id': 295719824, 'first_name': 'Binchous', 'is_bot': False, 'username': 'bincha', 'language_code': 'ru'}}}\n",
      "{'update_id': 341157807, 'message': {'message_id': 17, 'date': 1548344832, 'chat': {'id': 295719824, 'type': 'private', 'username': 'bincha', 'first_name': 'Binchous'}, 'text': 'фавафв', 'entities': [], 'caption_entities': [], 'photo': [], 'new_chat_members': [], 'new_chat_photo': [], 'delete_chat_photo': False, 'group_chat_created': False, 'supergroup_chat_created': False, 'channel_chat_created': False, 'from': {'id': 295719824, 'first_name': 'Binchous', 'is_bot': False, 'username': 'bincha', 'language_code': 'ru'}}}\n"
     ]
    }
   ],
   "source": [
    "bot = telegram.Bot(token)\n",
    "for last_update in bot.getUpdates():\n",
    "    print(last_update)"
   ]
  },
  {
   "cell_type": "code",
   "execution_count": 8,
   "metadata": {},
   "outputs": [],
   "source": [
    "chat_id = last_update.message.chat.id"
   ]
  },
  {
   "cell_type": "code",
   "execution_count": 9,
   "metadata": {},
   "outputs": [
    {
     "name": "stdout",
     "output_type": "stream",
     "text": [
      "295719824\n"
     ]
    }
   ],
   "source": [
    "print(chat_id)"
   ]
  },
  {
   "cell_type": "code",
   "execution_count": 14,
   "metadata": {},
   "outputs": [],
   "source": [
    "mess = Notifier('me')"
   ]
  },
  {
   "cell_type": "code",
   "execution_count": 15,
   "metadata": {},
   "outputs": [
    {
     "name": "stdout",
     "output_type": "stream",
     "text": [
      "me\n"
     ]
    }
   ],
   "source": [
    "print(mess.username)"
   ]
  },
  {
   "cell_type": "code",
   "execution_count": 16,
   "metadata": {},
   "outputs": [
    {
     "name": "stdout",
     "output_type": "stream",
     "text": [
      "my colleague\n"
     ]
    }
   ],
   "source": [
    "second_mess = Notifier('my colleague')\n",
    "print(second_mess.username)"
   ]
  },
  {
   "cell_type": "code",
   "execution_count": 44,
   "metadata": {},
   "outputs": [],
   "source": [
    "class Notifier:\n",
    "    def __init__(self, username):\n",
    "        self.username = username\n",
    "        self.messages_counter = 0\n",
    "        self.config = load(open('config.yaml', 'r'))\n",
    "        self.bot = telegram.Bot(self.config['bot_token'])\n",
    "    def counterUp(self):\n",
    "        self.messages_counter += 1\n",
    "    def notification(self, message):\n",
    "        if self.username in self.config['users']:\n",
    "            self.bot.sendMessage(chat_id = self.config['users'][self.username], text = message)\n",
    "        else:\n",
    "            print('Имя пользователя не найдено в файле config.yaml')"
   ]
  },
  {
   "cell_type": "code",
   "execution_count": 19,
   "metadata": {},
   "outputs": [],
   "source": [
    "mess = Notifier('me')"
   ]
  },
  {
   "cell_type": "code",
   "execution_count": 20,
   "metadata": {},
   "outputs": [
    {
     "name": "stdout",
     "output_type": "stream",
     "text": [
      "0\n"
     ]
    }
   ],
   "source": [
    "print(mess.message_counter)"
   ]
  },
  {
   "cell_type": "code",
   "execution_count": 21,
   "metadata": {},
   "outputs": [],
   "source": [
    "mess.counterUp()"
   ]
  },
  {
   "cell_type": "code",
   "execution_count": 22,
   "metadata": {},
   "outputs": [
    {
     "name": "stdout",
     "output_type": "stream",
     "text": [
      "1\n"
     ]
    }
   ],
   "source": [
    "print(mess.message_counter)"
   ]
  },
  {
   "cell_type": "code",
   "execution_count": 47,
   "metadata": {},
   "outputs": [],
   "source": [
    "mess = Notifier('me')\n",
    "mess.notification('Здарова малой')"
   ]
  },
  {
   "cell_type": "code",
   "execution_count": null,
   "metadata": {},
   "outputs": [],
   "source": []
  }
 ],
 "metadata": {
  "kernelspec": {
   "display_name": "Python 3",
   "language": "python",
   "name": "python3"
  },
  "language_info": {
   "codemirror_mode": {
    "name": "ipython",
    "version": 3
   },
   "file_extension": ".py",
   "mimetype": "text/x-python",
   "name": "python",
   "nbconvert_exporter": "python",
   "pygments_lexer": "ipython3",
   "version": "3.7.2"
  }
 },
 "nbformat": 4,
 "nbformat_minor": 2
}
