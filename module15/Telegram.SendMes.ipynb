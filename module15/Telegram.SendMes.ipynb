{
 "cells": [
  {
   "cell_type": "code",
   "execution_count": 36,
   "metadata": {},
   "outputs": [],
   "source": [
    "import telegram"
   ]
  },
  {
   "cell_type": "code",
   "execution_count": 37,
   "metadata": {},
   "outputs": [],
   "source": [
    "from yaml import load\n",
    "with open('config.yaml', 'r') as f:\n",
    "    config = load(f)\n",
    "token = config['bot_token']"
   ]
  },
  {
   "cell_type": "code",
   "execution_count": 49,
   "metadata": {},
   "outputs": [
    {
     "data": {
      "text/plain": [
       "<telegram.bot.Bot at 0x7f09935563c8>"
      ]
     },
     "execution_count": 49,
     "metadata": {},
     "output_type": "execute_result"
    }
   ],
   "source": [
    "MethodGetUpdates = 'https://api.telegram.org/bot{token}/getUpdates'.format(token=token)\n",
    "bot = telegram.Bot(token)\n",
    "bot"
   ]
  },
  {
   "cell_type": "code",
   "execution_count": 50,
   "metadata": {},
   "outputs": [
    {
     "name": "stdout",
     "output_type": "stream",
     "text": [
      "{'update_id': 341157795, 'message': {'message_id': 5, 'date': 1548340295, 'chat': {'id': 295719824, 'type': 'private', 'username': 'bincha', 'first_name': 'Binchous'}, 'text': 'dgfdgsfdg', 'entities': [], 'caption_entities': [], 'photo': [], 'new_chat_members': [], 'new_chat_photo': [], 'delete_chat_photo': False, 'group_chat_created': False, 'supergroup_chat_created': False, 'channel_chat_created': False, 'from': {'id': 295719824, 'first_name': 'Binchous', 'is_bot': False, 'username': 'bincha', 'language_code': 'ru'}}}\n",
      "{'update_id': 341157796, 'message': {'message_id': 6, 'date': 1548340296, 'chat': {'id': 295719824, 'type': 'private', 'username': 'bincha', 'first_name': 'Binchous'}, 'text': 'fgfdsgsdg', 'entities': [], 'caption_entities': [], 'photo': [], 'new_chat_members': [], 'new_chat_photo': [], 'delete_chat_photo': False, 'group_chat_created': False, 'supergroup_chat_created': False, 'channel_chat_created': False, 'from': {'id': 295719824, 'first_name': 'Binchous', 'is_bot': False, 'username': 'bincha', 'language_code': 'ru'}}}\n",
      "{'update_id': 341157797, 'message': {'message_id': 7, 'date': 1548340301, 'chat': {'id': 295719824, 'type': 'private', 'username': 'bincha', 'first_name': 'Binchous'}, 'text': 'sgsfgsdg', 'entities': [], 'caption_entities': [], 'photo': [], 'new_chat_members': [], 'new_chat_photo': [], 'delete_chat_photo': False, 'group_chat_created': False, 'supergroup_chat_created': False, 'channel_chat_created': False, 'from': {'id': 295719824, 'first_name': 'Binchous', 'is_bot': False, 'username': 'bincha', 'language_code': 'ru'}}}\n",
      "{'update_id': 341157798, 'message': {'message_id': 8, 'date': 1548340301, 'chat': {'id': 295719824, 'type': 'private', 'username': 'bincha', 'first_name': 'Binchous'}, 'text': 'fgdsgdsgfdsg', 'entities': [], 'caption_entities': [], 'photo': [], 'new_chat_members': [], 'new_chat_photo': [], 'delete_chat_photo': False, 'group_chat_created': False, 'supergroup_chat_created': False, 'channel_chat_created': False, 'from': {'id': 295719824, 'first_name': 'Binchous', 'is_bot': False, 'username': 'bincha', 'language_code': 'ru'}}}\n",
      "{'update_id': 341157799, 'message': {'message_id': 9, 'date': 1548344739, 'chat': {'id': 295719824, 'type': 'private', 'username': 'bincha', 'first_name': 'Binchous'}, 'text': 'авыаываыв', 'entities': [], 'caption_entities': [], 'photo': [], 'new_chat_members': [], 'new_chat_photo': [], 'delete_chat_photo': False, 'group_chat_created': False, 'supergroup_chat_created': False, 'channel_chat_created': False, 'from': {'id': 295719824, 'first_name': 'Binchous', 'is_bot': False, 'username': 'bincha', 'language_code': 'ru'}}}\n",
      "{'update_id': 341157800, 'message': {'message_id': 10, 'date': 1548344782, 'chat': {'id': 295719824, 'type': 'private', 'username': 'bincha', 'first_name': 'Binchous'}, 'text': 'ваап', 'entities': [], 'caption_entities': [], 'photo': [], 'new_chat_members': [], 'new_chat_photo': [], 'delete_chat_photo': False, 'group_chat_created': False, 'supergroup_chat_created': False, 'channel_chat_created': False, 'from': {'id': 295719824, 'first_name': 'Binchous', 'is_bot': False, 'username': 'bincha', 'language_code': 'ru'}}}\n",
      "{'update_id': 341157801, 'message': {'message_id': 11, 'date': 1548344783, 'chat': {'id': 295719824, 'type': 'private', 'username': 'bincha', 'first_name': 'Binchous'}, 'text': 'павпвп', 'entities': [], 'caption_entities': [], 'photo': [], 'new_chat_members': [], 'new_chat_photo': [], 'delete_chat_photo': False, 'group_chat_created': False, 'supergroup_chat_created': False, 'channel_chat_created': False, 'from': {'id': 295719824, 'first_name': 'Binchous', 'is_bot': False, 'username': 'bincha', 'language_code': 'ru'}}}\n",
      "{'update_id': 341157802, 'message': {'message_id': 12, 'date': 1548344785, 'chat': {'id': 295719824, 'type': 'private', 'username': 'bincha', 'first_name': 'Binchous'}, 'text': 'ывапвапыв', 'entities': [], 'caption_entities': [], 'photo': [], 'new_chat_members': [], 'new_chat_photo': [], 'delete_chat_photo': False, 'group_chat_created': False, 'supergroup_chat_created': False, 'channel_chat_created': False, 'from': {'id': 295719824, 'first_name': 'Binchous', 'is_bot': False, 'username': 'bincha', 'language_code': 'ru'}}}\n",
      "{'update_id': 341157803, 'message': {'message_id': 13, 'date': 1548344786, 'chat': {'id': 295719824, 'type': 'private', 'username': 'bincha', 'first_name': 'Binchous'}, 'text': 'впвыапывап', 'entities': [], 'caption_entities': [], 'photo': [], 'new_chat_members': [], 'new_chat_photo': [], 'delete_chat_photo': False, 'group_chat_created': False, 'supergroup_chat_created': False, 'channel_chat_created': False, 'from': {'id': 295719824, 'first_name': 'Binchous', 'is_bot': False, 'username': 'bincha', 'language_code': 'ru'}}}\n",
      "{'update_id': 341157804, 'message': {'message_id': 14, 'date': 1548344826, 'chat': {'id': 295719824, 'type': 'private', 'username': 'bincha', 'first_name': 'Binchous'}, 'text': '/start', 'entities': [{'type': 'bot_command', 'offset': 0, 'length': 6}], 'caption_entities': [], 'photo': [], 'new_chat_members': [], 'new_chat_photo': [], 'delete_chat_photo': False, 'group_chat_created': False, 'supergroup_chat_created': False, 'channel_chat_created': False, 'from': {'id': 295719824, 'first_name': 'Binchous', 'is_bot': False, 'username': 'bincha', 'language_code': 'ru'}}}\n",
      "{'update_id': 341157805, 'message': {'message_id': 15, 'date': 1548344830, 'chat': {'id': 295719824, 'type': 'private', 'username': 'bincha', 'first_name': 'Binchous'}, 'text': 'вавыавыа', 'entities': [], 'caption_entities': [], 'photo': [], 'new_chat_members': [], 'new_chat_photo': [], 'delete_chat_photo': False, 'group_chat_created': False, 'supergroup_chat_created': False, 'channel_chat_created': False, 'from': {'id': 295719824, 'first_name': 'Binchous', 'is_bot': False, 'username': 'bincha', 'language_code': 'ru'}}}\n",
      "{'update_id': 341157806, 'message': {'message_id': 16, 'date': 1548344831, 'chat': {'id': 295719824, 'type': 'private', 'username': 'bincha', 'first_name': 'Binchous'}, 'text': 'фвавфаф', 'entities': [], 'caption_entities': [], 'photo': [], 'new_chat_members': [], 'new_chat_photo': [], 'delete_chat_photo': False, 'group_chat_created': False, 'supergroup_chat_created': False, 'channel_chat_created': False, 'from': {'id': 295719824, 'first_name': 'Binchous', 'is_bot': False, 'username': 'bincha', 'language_code': 'ru'}}}\n",
      "{'update_id': 341157807, 'message': {'message_id': 17, 'date': 1548344832, 'chat': {'id': 295719824, 'type': 'private', 'username': 'bincha', 'first_name': 'Binchous'}, 'text': 'фавафв', 'entities': [], 'caption_entities': [], 'photo': [], 'new_chat_members': [], 'new_chat_photo': [], 'delete_chat_photo': False, 'group_chat_created': False, 'supergroup_chat_created': False, 'channel_chat_created': False, 'from': {'id': 295719824, 'first_name': 'Binchous', 'is_bot': False, 'username': 'bincha', 'language_code': 'ru'}}}\n"
     ]
    }
   ],
   "source": [
    "for last_update in bot.getUpdates():\n",
    "    print(last_update)"
   ]
  },
  {
   "cell_type": "code",
   "execution_count": 51,
   "metadata": {},
   "outputs": [],
   "source": [
    "chat_id = last_update.message.chat.id"
   ]
  },
  {
   "cell_type": "code",
   "execution_count": 52,
   "metadata": {},
   "outputs": [
    {
     "data": {
      "text/plain": [
       "<telegram.message.Message at 0x7f0992c436a0>"
      ]
     },
     "execution_count": 52,
     "metadata": {},
     "output_type": "execute_result"
    }
   ],
   "source": [
    "bot.sendMessage(chat_id = chat_id, text = 'Расчёт успешно завершёи, поздравляю, лох')"
   ]
  },
  {
   "cell_type": "code",
   "execution_count": 54,
   "metadata": {},
   "outputs": [
    {
     "data": {
      "text/plain": [
       "<telegram.message.Message at 0x7f09a4384da0>"
      ]
     },
     "execution_count": 54,
     "metadata": {},
     "output_type": "execute_result"
    }
   ],
   "source": [
    "bot.send_document(chat_id=chat_id, document=open('data.txt', 'rb'))"
   ]
  },
  {
   "cell_type": "code",
   "execution_count": null,
   "metadata": {},
   "outputs": [],
   "source": []
  }
 ],
 "metadata": {
  "kernelspec": {
   "display_name": "Python 3",
   "language": "python",
   "name": "python3"
  },
  "language_info": {
   "codemirror_mode": {
    "name": "ipython",
    "version": 3
   },
   "file_extension": ".py",
   "mimetype": "text/x-python",
   "name": "python",
   "nbconvert_exporter": "python",
   "pygments_lexer": "ipython3",
   "version": "3.7.2"
  }
 },
 "nbformat": 4,
 "nbformat_minor": 2
}
