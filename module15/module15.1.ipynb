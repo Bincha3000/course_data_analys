{
 "cells": [
  {
   "cell_type": "code",
   "execution_count": 1,
   "metadata": {},
   "outputs": [],
   "source": [
    "from datetime import datetime \n",
    "import pandas as pd"
   ]
  },
  {
   "cell_type": "code",
   "execution_count": 8,
   "metadata": {},
   "outputs": [],
   "source": [
    "def datetime_to_date(line):\n",
    "    date_string = line['date'] \n",
    "    try:\n",
    "        date_datetime = datetime.strptime(date_string, '%d.%m.%Y %H:%M')\n",
    "    except ValueError:\n",
    "        try:\n",
    "            date_datetime = datetime.strptime(date_string, '%d.%m.%YT %H:%M:%S')\n",
    "        except:\n",
    "            return 'undefined'\n",
    "    return date_datetime.strftime('%Y-%m-%d')"
   ]
  },
  {
   "cell_type": "code",
   "execution_count": 9,
   "metadata": {},
   "outputs": [],
   "source": [
    "data = pd.read_csv('real_data_no_header.txt', sep = '\\t', names = ['id','date','user_id','duration','medium','source','cost','order_id','amount_paid'])"
   ]
  },
  {
   "cell_type": "code",
   "execution_count": 10,
   "metadata": {},
   "outputs": [],
   "source": [
    "data['dateTime'] = data.apply(datetime_to_date, axis = 1)"
   ]
  },
  {
   "cell_type": "code",
   "execution_count": 12,
   "metadata": {},
   "outputs": [],
   "source": [
    "data.dropna(axis = 0, inplace = True)"
   ]
  },
  {
   "cell_type": "code",
   "execution_count": 14,
   "metadata": {},
   "outputs": [],
   "source": [
    "def change_cpa_revenue(row):\n",
    "    amount_paid = float(row['amount_paid'].replace(',','.'))\n",
    "    if row['medium'] == 'cpa-partners':\n",
    "        return amount_paid / 1000000\n",
    "    else: \n",
    "        return amount_paid"
   ]
  },
  {
   "cell_type": "code",
   "execution_count": 15,
   "metadata": {},
   "outputs": [],
   "source": [
    "data['amount_paid_corrected'] = data.apply(change_cpa_revenue, axis =1 )"
   ]
  },
  {
   "cell_type": "code",
   "execution_count": 17,
   "metadata": {},
   "outputs": [
    {
     "data": {
      "text/html": [
       "<div>\n",
       "<style scoped>\n",
       "    .dataframe tbody tr th:only-of-type {\n",
       "        vertical-align: middle;\n",
       "    }\n",
       "\n",
       "    .dataframe tbody tr th {\n",
       "        vertical-align: top;\n",
       "    }\n",
       "\n",
       "    .dataframe thead th {\n",
       "        text-align: right;\n",
       "    }\n",
       "</style>\n",
       "<table border=\"1\" class=\"dataframe\">\n",
       "  <thead>\n",
       "    <tr style=\"text-align: right;\">\n",
       "      <th></th>\n",
       "      <th>id</th>\n",
       "      <th>user_id</th>\n",
       "      <th>order_id</th>\n",
       "      <th>amount_paid_corrected</th>\n",
       "    </tr>\n",
       "    <tr>\n",
       "      <th>dateTime</th>\n",
       "      <th></th>\n",
       "      <th></th>\n",
       "      <th></th>\n",
       "      <th></th>\n",
       "    </tr>\n",
       "  </thead>\n",
       "  <tbody>\n",
       "    <tr>\n",
       "      <th>2016-10-01</th>\n",
       "      <td>38854.550000</td>\n",
       "      <td>1192.950000</td>\n",
       "      <td>4970.650000</td>\n",
       "      <td>16.030000</td>\n",
       "    </tr>\n",
       "    <tr>\n",
       "      <th>2016-10-02</th>\n",
       "      <td>39094.954545</td>\n",
       "      <td>1242.090909</td>\n",
       "      <td>5387.772727</td>\n",
       "      <td>16.990909</td>\n",
       "    </tr>\n",
       "    <tr>\n",
       "      <th>2016-10-03</th>\n",
       "      <td>38598.200000</td>\n",
       "      <td>1268.950000</td>\n",
       "      <td>6190.200000</td>\n",
       "      <td>18.770000</td>\n",
       "    </tr>\n",
       "    <tr>\n",
       "      <th>2016-10-04</th>\n",
       "      <td>39726.041667</td>\n",
       "      <td>1205.625000</td>\n",
       "      <td>5110.125000</td>\n",
       "      <td>18.108333</td>\n",
       "    </tr>\n",
       "    <tr>\n",
       "      <th>2016-10-05</th>\n",
       "      <td>39208.400000</td>\n",
       "      <td>1225.040000</td>\n",
       "      <td>5605.640000</td>\n",
       "      <td>16.456000</td>\n",
       "    </tr>\n",
       "    <tr>\n",
       "      <th>2016-10-06</th>\n",
       "      <td>38540.600000</td>\n",
       "      <td>1225.850000</td>\n",
       "      <td>5651.100000</td>\n",
       "      <td>17.080000</td>\n",
       "    </tr>\n",
       "    <tr>\n",
       "      <th>2016-10-07</th>\n",
       "      <td>38700.500000</td>\n",
       "      <td>1202.454545</td>\n",
       "      <td>5258.772727</td>\n",
       "      <td>18.445455</td>\n",
       "    </tr>\n",
       "    <tr>\n",
       "      <th>2016-10-08</th>\n",
       "      <td>38029.823529</td>\n",
       "      <td>1222.352941</td>\n",
       "      <td>5484.235294</td>\n",
       "      <td>18.141176</td>\n",
       "    </tr>\n",
       "    <tr>\n",
       "      <th>2016-10-09</th>\n",
       "      <td>37946.105263</td>\n",
       "      <td>1190.842105</td>\n",
       "      <td>4783.263158</td>\n",
       "      <td>18.810526</td>\n",
       "    </tr>\n",
       "    <tr>\n",
       "      <th>2016-10-10</th>\n",
       "      <td>36155.000000</td>\n",
       "      <td>1182.000000</td>\n",
       "      <td>6742.000000</td>\n",
       "      <td>17.000000</td>\n",
       "    </tr>\n",
       "  </tbody>\n",
       "</table>\n",
       "</div>"
      ],
      "text/plain": [
       "                      id      user_id     order_id  amount_paid_corrected\n",
       "dateTime                                                                 \n",
       "2016-10-01  38854.550000  1192.950000  4970.650000              16.030000\n",
       "2016-10-02  39094.954545  1242.090909  5387.772727              16.990909\n",
       "2016-10-03  38598.200000  1268.950000  6190.200000              18.770000\n",
       "2016-10-04  39726.041667  1205.625000  5110.125000              18.108333\n",
       "2016-10-05  39208.400000  1225.040000  5605.640000              16.456000\n",
       "2016-10-06  38540.600000  1225.850000  5651.100000              17.080000\n",
       "2016-10-07  38700.500000  1202.454545  5258.772727              18.445455\n",
       "2016-10-08  38029.823529  1222.352941  5484.235294              18.141176\n",
       "2016-10-09  37946.105263  1190.842105  4783.263158              18.810526\n",
       "2016-10-10  36155.000000  1182.000000  6742.000000              17.000000"
      ]
     },
     "execution_count": 17,
     "metadata": {},
     "output_type": "execute_result"
    }
   ],
   "source": [
    "data.groupby('dateTime').mean()"
   ]
  },
  {
   "cell_type": "code",
   "execution_count": null,
   "metadata": {},
   "outputs": [],
   "source": []
  }
 ],
 "metadata": {
  "kernelspec": {
   "display_name": "Python 3",
   "language": "python",
   "name": "python3"
  },
  "language_info": {
   "codemirror_mode": {
    "name": "ipython",
    "version": 3
   },
   "file_extension": ".py",
   "mimetype": "text/x-python",
   "name": "python",
   "nbconvert_exporter": "python",
   "pygments_lexer": "ipython3",
   "version": "3.7.2"
  }
 },
 "nbformat": 4,
 "nbformat_minor": 2
}
