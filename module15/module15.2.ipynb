{
 "cells": [
  {
   "cell_type": "code",
   "execution_count": 8,
   "metadata": {},
   "outputs": [],
   "source": [
    "import requests\n",
    "import time "
   ]
  },
  {
   "cell_type": "code",
   "execution_count": 3,
   "metadata": {},
   "outputs": [],
   "source": [
    "# Скрипт входит в ожтдание и приходится долго ждать ответа\n",
    "r = requests.get('https://ya.ru:81')"
   ]
  },
  {
   "cell_type": "code",
   "execution_count": 5,
   "metadata": {},
   "outputs": [
    {
     "name": "stdout",
     "output_type": "stream",
     "text": [
      "Похоже что сервис не доступен, бла-бла-бла\n"
     ]
    }
   ],
   "source": [
    "# Время ожидание ответа будет равно 5 сек\n",
    "try:\n",
    "    r = requests.get('https://ya.ru:81', timeout = 5)\n",
    "except requests.ConnectionError:\n",
    "    print('Похоже что сервис не доступен, бла-бла-бла')"
   ]
  },
  {
   "cell_type": "code",
   "execution_count": 6,
   "metadata": {},
   "outputs": [],
   "source": [
    "urls = ['http://sports.ru:8080', 'https://ya.ru', 'http://google.com:443', 'https://championat.com:443', 'https://ya.ru:81']"
   ]
  },
  {
   "cell_type": "code",
   "execution_count": 7,
   "metadata": {},
   "outputs": [
    {
     "name": "stdout",
     "output_type": "stream",
     "text": [
      "Затуп\n",
      "Затуп\n",
      "Затуп\n"
     ]
    }
   ],
   "source": [
    "for url in urls:\n",
    "    try:\n",
    "        r = requests.get(url, timeout = 5)\n",
    "    except requests.ConnectionError:\n",
    "        print('Затуп')"
   ]
  },
  {
   "cell_type": "code",
   "execution_count": 13,
   "metadata": {},
   "outputs": [],
   "source": [
    "def knocking_on_service_api(url):\n",
    "    for n in range(0, 5):\n",
    "        try:\n",
    "            r = requests.get(url, timeout = 5)\n",
    "            return r.status_code\n",
    "        except requests.ConnectionError:\n",
    "            if n == 4:\n",
    "                return 0\n",
    "            print('Похоже, сервис тупит, ждём {} секунду(ы)'.format(2**n))\n",
    "            time.sleep(2**n)\n",
    "    return 0"
   ]
  },
  {
   "cell_type": "code",
   "execution_count": 14,
   "metadata": {},
   "outputs": [
    {
     "name": "stdout",
     "output_type": "stream",
     "text": [
      "Похоже, сервис тупит, ждём 1 секунду(ы)\n",
      "Похоже, сервис тупит, ждём 2 секунду(ы)\n",
      "Похоже, сервис тупит, ждём 4 секунду(ы)\n",
      "Похоже, сервис тупит, ждём 8 секунду(ы)\n",
      "CPU times: user 50.7 ms, sys: 4.81 ms, total: 55.5 ms\n",
      "Wall time: 40.1 s\n"
     ]
    },
    {
     "data": {
      "text/plain": [
       "0"
      ]
     },
     "execution_count": 14,
     "metadata": {},
     "output_type": "execute_result"
    }
   ],
   "source": [
    "%%time\n",
    "knocking_on_service_api('https://ya.ru:81')"
   ]
  },
  {
   "cell_type": "code",
   "execution_count": null,
   "metadata": {},
   "outputs": [],
   "source": []
  }
 ],
 "metadata": {
  "kernelspec": {
   "display_name": "Python 3",
   "language": "python",
   "name": "python3"
  },
  "language_info": {
   "codemirror_mode": {
    "name": "ipython",
    "version": 3
   },
   "file_extension": ".py",
   "mimetype": "text/x-python",
   "name": "python",
   "nbconvert_exporter": "python",
   "pygments_lexer": "ipython3",
   "version": "3.7.2"
  }
 },
 "nbformat": 4,
 "nbformat_minor": 2
}
