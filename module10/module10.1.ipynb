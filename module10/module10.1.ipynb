{
 "cells": [
  {
   "cell_type": "code",
   "execution_count": 22,
   "metadata": {},
   "outputs": [
    {
     "name": "stdout",
     "output_type": "stream",
     "text": [
      "68\n"
     ]
    }
   ],
   "source": [
    "orders_dict = {}\n",
    "with open('orders_by_source.txt', 'r') as f:\n",
    "    for line in f:\n",
    "        line = line.strip().split('\\t')\n",
    "        orders_dict[line[0]] = int(line[1])\n",
    "    print(orders_dict['promo'])"
   ]
  },
  {
   "cell_type": "code",
   "execution_count": 23,
   "metadata": {},
   "outputs": [],
   "source": [
    "def searchForLine(source, orders_dict):\n",
    "    if source in orders_dict:\n",
    "        return int(orders_dict[source])"
   ]
  },
  {
   "cell_type": "code",
   "execution_count": 24,
   "metadata": {},
   "outputs": [
    {
     "name": "stdout",
     "output_type": "stream",
     "text": [
      "burgerclub 1197 10 0.00835421888053467\n",
      "city-magazine 528 5 0.00946969696969697\n",
      "facebook 3144 5 0.0015903307888040711\n",
      "food-delivery 1184 10 0.008445945945945946\n",
      "foody 421 3 0.007125890736342043\n",
      "google 10961 77 0.007024906486634432\n",
      "newsletter 637 5 0.007849293563579277\n",
      "promo 7405 68 0.009182984469952735\n",
      "vk 256 2 0.0078125\n",
      "yandex 11757 104 0.008845793995066768\n",
      "direct 2156 5 0.002319109461966605\n"
     ]
    }
   ],
   "source": [
    "with open('visits_by_source.txt', 'r') as v:\n",
    "    for line in v:\n",
    "        line = line.strip().split('\\t')\n",
    "        source = line[0]\n",
    "        visits = int(line[1])\n",
    "        orders = searchForLine(source, orders_dict)\n",
    "        print(source, visits, orders, orders/visits)"
   ]
  },
  {
   "cell_type": "code",
   "execution_count": 26,
   "metadata": {},
   "outputs": [],
   "source": [
    "with open('joined_by_source.txt', 'w') as f_joined:\n",
    "    with open('visits_by_source.txt', 'r') as f:\n",
    "        for line in f:\n",
    "            line = line.strip().split('\\t')\n",
    "            source = line[0]\n",
    "            visits = int(line[1])\n",
    "            orders = searchForLine(source, orders_dict)\n",
    "            f_joined.write('{}\\t{}\\t{}\\n'.format(source, visits, orders))\n"
   ]
  },
  {
   "cell_type": "code",
   "execution_count": 40,
   "metadata": {},
   "outputs": [],
   "source": [
    "with open('orders_by_source.txt', 'w') as order:\n",
    "    with open('visits_by_source.txt', 'r') as f:\n",
    "        order.write('source\\tvisits\\torders\\tconvers\\n')\n",
    "        for line in f:\n",
    "            line = line.strip().split('\\t')\n",
    "            source = line[0]\n",
    "            visits = int(line[1])\n",
    "            orders = searchForLine(source, orders_dict)\n",
    "            order.write('{}\\t{}\\t{}\\t{}\\n'.format(source, visits, orders, orders/visits))"
   ]
  },
  {
   "cell_type": "code",
   "execution_count": 41,
   "metadata": {},
   "outputs": [
    {
     "data": {
      "text/html": [
       "<div>\n",
       "<style scoped>\n",
       "    .dataframe tbody tr th:only-of-type {\n",
       "        vertical-align: middle;\n",
       "    }\n",
       "\n",
       "    .dataframe tbody tr th {\n",
       "        vertical-align: top;\n",
       "    }\n",
       "\n",
       "    .dataframe thead th {\n",
       "        text-align: right;\n",
       "    }\n",
       "</style>\n",
       "<table border=\"1\" class=\"dataframe\">\n",
       "  <thead>\n",
       "    <tr style=\"text-align: right;\">\n",
       "      <th></th>\n",
       "      <th>source</th>\n",
       "      <th>visits</th>\n",
       "      <th>orders</th>\n",
       "      <th>convers</th>\n",
       "    </tr>\n",
       "  </thead>\n",
       "  <tbody>\n",
       "    <tr>\n",
       "      <th>0</th>\n",
       "      <td>burgerclub</td>\n",
       "      <td>1197</td>\n",
       "      <td>10</td>\n",
       "      <td>0.008354</td>\n",
       "    </tr>\n",
       "    <tr>\n",
       "      <th>1</th>\n",
       "      <td>city-magazine</td>\n",
       "      <td>528</td>\n",
       "      <td>5</td>\n",
       "      <td>0.009470</td>\n",
       "    </tr>\n",
       "    <tr>\n",
       "      <th>2</th>\n",
       "      <td>facebook</td>\n",
       "      <td>3144</td>\n",
       "      <td>5</td>\n",
       "      <td>0.001590</td>\n",
       "    </tr>\n",
       "    <tr>\n",
       "      <th>3</th>\n",
       "      <td>food-delivery</td>\n",
       "      <td>1184</td>\n",
       "      <td>10</td>\n",
       "      <td>0.008446</td>\n",
       "    </tr>\n",
       "    <tr>\n",
       "      <th>4</th>\n",
       "      <td>foody</td>\n",
       "      <td>421</td>\n",
       "      <td>3</td>\n",
       "      <td>0.007126</td>\n",
       "    </tr>\n",
       "  </tbody>\n",
       "</table>\n",
       "</div>"
      ],
      "text/plain": [
       "          source  visits  orders   convers\n",
       "0     burgerclub    1197      10  0.008354\n",
       "1  city-magazine     528       5  0.009470\n",
       "2       facebook    3144       5  0.001590\n",
       "3  food-delivery    1184      10  0.008446\n",
       "4          foody     421       3  0.007126"
      ]
     },
     "execution_count": 41,
     "metadata": {},
     "output_type": "execute_result"
    }
   ],
   "source": [
    "import pandas as pd\n",
    "data = pd.read_csv('orders_by_source.txt', sep='\\t')\n",
    "data.head()"
   ]
  },
  {
   "cell_type": "code",
   "execution_count": 43,
   "metadata": {},
   "outputs": [
    {
     "data": {
      "text/plain": [
       "0.007092788299865774"
      ]
     },
     "execution_count": 43,
     "metadata": {},
     "output_type": "execute_result"
    }
   ],
   "source": [
    "data['convers'].mean()"
   ]
  },
  {
   "cell_type": "code",
   "execution_count": null,
   "metadata": {},
   "outputs": [],
   "source": []
  }
 ],
 "metadata": {
  "kernelspec": {
   "display_name": "Python 3",
   "language": "python",
   "name": "python3"
  },
  "language_info": {
   "codemirror_mode": {
    "name": "ipython",
    "version": 3
   },
   "file_extension": ".py",
   "mimetype": "text/x-python",
   "name": "python",
   "nbconvert_exporter": "python",
   "pygments_lexer": "ipython3",
   "version": "3.7.2"
  }
 },
 "nbformat": 4,
 "nbformat_minor": 2
}
