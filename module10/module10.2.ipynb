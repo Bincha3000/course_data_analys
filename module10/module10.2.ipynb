{
 "cells": [
  {
   "cell_type": "code",
   "execution_count": 1,
   "metadata": {},
   "outputs": [],
   "source": [
    "orders_dict = {}\n",
    "with open('orders_by_source_and_medium.txt', 'r') as f:\n",
    "    for line in f: \n",
    "        line = line.strip().split('\\t')\n",
    "        source = line[0]\n",
    "        medium = line[1]\n",
    "        orders_count = int(line[2])\n",
    "        orders_dict.setdefault(source, {})\n",
    "        orders_dict[source].setdefault(medium, 0)\n",
    "        orders_dict[source][medium] = orders_count"
   ]
  },
  {
   "cell_type": "code",
   "execution_count": 2,
   "metadata": {},
   "outputs": [
    {
     "data": {
      "text/plain": [
       "{'brand': 6, 'sem': 56, 'seo': 15}"
      ]
     },
     "execution_count": 2,
     "metadata": {},
     "output_type": "execute_result"
    }
   ],
   "source": [
    "orders_dict['google']"
   ]
  },
  {
   "cell_type": "code",
   "execution_count": 3,
   "metadata": {},
   "outputs": [
    {
     "data": {
      "text/plain": [
       "15"
      ]
     },
     "execution_count": 3,
     "metadata": {},
     "output_type": "execute_result"
    }
   ],
   "source": [
    "def searchForLine(source, medium, orders_dict):\n",
    "    if source in orders_dict:\n",
    "        return int(orders_dict[source][medium])"
   ]
  },
  {
   "cell_type": "code",
   "execution_count": 4,
   "metadata": {},
   "outputs": [
    {
     "data": {
      "text/plain": [
       "56"
      ]
     },
     "execution_count": 4,
     "metadata": {},
     "output_type": "execute_result"
    }
   ],
   "source": [
    "searchForLine('google', 'sem', orders_dict)\n"
   ]
  },
  {
   "cell_type": "code",
   "execution_count": 6,
   "metadata": {},
   "outputs": [
    {
     "name": "stdout",
     "output_type": "stream",
     "text": [
      "burgerclub\tcpa-partners\t10\n",
      "\n",
      "city-magazine\tcpc-partners\t5\n",
      "\n",
      "direct\tbrand\t5\n",
      "\n",
      "facebook\tsmm\t5\n",
      "\n",
      "food-delivery\tcpa-partners\t10\n",
      "\n",
      "foody\tcpc-partners\t3\n",
      "\n",
      "google\tbrand\t6\n",
      "\n",
      "google\tsem\t56\n",
      "\n",
      "google\tseo\t15\n",
      "\n",
      "newsletter\temail\t5\n",
      "\n",
      "promo\temail\t68\n",
      "\n",
      "vk\tsmm\t2\n",
      "\n",
      "yandex\tbrand\t7\n",
      "\n",
      "yandex\tsem\t67\n",
      "\n",
      "yandex\tseo\t30\n",
      "\n"
     ]
    }
   ],
   "source": [
    "orders_dict = {}\n",
    "with open('orders_by_source_and_medium.txt', 'r') as f:\n",
    "    for line in f: \n",
    "        line = line.strip().split('\\t')\n",
    "        source = line[0]\n",
    "        medium = line[1]\n",
    "        orders_count = int(line[2])\n",
    "        orders_dict.setdefault(source, {})\n",
    "        orders_dict[source].setdefault(medium, 0)\n",
    "        orders_dict[source][medium] = orders_count\n",
    "        print('{}\\t{}\\t{}\\n'.format(source, medium, searchForLine(source, medium, orders_dict)))"
   ]
  },
  {
   "cell_type": "code",
   "execution_count": null,
   "metadata": {},
   "outputs": [],
   "source": []
  }
 ],
 "metadata": {
  "kernelspec": {
   "display_name": "Python 3",
   "language": "python",
   "name": "python3"
  },
  "language_info": {
   "codemirror_mode": {
    "name": "ipython",
    "version": 3
   },
   "file_extension": ".py",
   "mimetype": "text/x-python",
   "name": "python",
   "nbconvert_exporter": "python",
   "pygments_lexer": "ipython3",
   "version": "3.7.2"
  }
 },
 "nbformat": 4,
 "nbformat_minor": 2
}
