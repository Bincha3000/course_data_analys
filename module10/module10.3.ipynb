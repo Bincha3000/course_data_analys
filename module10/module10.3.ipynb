{
 "cells": [
  {
   "cell_type": "code",
   "execution_count": 9,
   "metadata": {},
   "outputs": [
    {
     "data": {
      "text/plain": [
       "{0: {1: {2: {3: {4: {5: {6: {7: {8: {9: {10: {11: {12: {13: {14: {15: {16: {17: {18: {19: {20: {21: {22: {23: {24: {25: {26: {27: {28: {29: {30: {31: {32: {33: {34: {35: {36: {37: {38: {39: {40: {41: {42: {43: {44: {45: {46: {47: {48: {49: {50: {51: {52: {53: {54: {55: {56: {57: {58: {59: {60: {61: {62: {63: {64: {65: {66: {67: {68: {69: {70: {71: {72: {73: {74: {75: {76: {77: {78: {79: {80: {81: {82: {83: {84: {85: {86: {87: {88: {89: {90: {91: {92: {93: {94: {95: {96: {97: {98: 99}}}}}}}}}}}}}}}}}}}}}}}}}}}}}}}}}}}}}}}}}}}}}}}}}}}}}}}}}}}}}}}}}}}}}}}}}}}}}}}}}}}}}}}}}}}}}}}}}}}"
      ]
     },
     "execution_count": 9,
     "metadata": {},
     "output_type": "execute_result"
    }
   ],
   "source": [
    "line = ['2016-10-01', 'burgerclub', 'cpa-partners', 1]\n",
    "line_range = [int(i)for i in range(100)]\n",
    "# dict2fill = {'2016-10-01':{'burgerclub':{'cpa-partners':1}}}\n",
    "def fillLevels(lineRemainder):\n",
    "    dict2fill = {}\n",
    "    if len(lineRemainder) > 1:\n",
    "        dict2fill[lineRemainder[0]] = fillLevels(lineRemainder[1:])\n",
    "    else:\n",
    "        return lineRemainder[0]\n",
    "    return dict2fill\n",
    "fillLevels(line_range)"
   ]
  },
  {
   "cell_type": "code",
   "execution_count": 33,
   "metadata": {},
   "outputs": [],
   "source": [
    "data = [\n",
    "    ['2016-10-01', 'google', 'sem', 5],\n",
    "    ['2016-10-01', 'google', 'seo', 1],\n",
    "    ['2016-10-01', 'newsletter', 'email', 1]\n",
    "]\n",
    "data_ex = [\n",
    "\n",
    "['2018-01-01', 'google', 'cpc', 'ДФО', 'кампания_1', 'Хабаровск', 114],\n",
    "\n",
    "['2018-01-01', 'google', 'cpc', 'ДФО', 'кампания_2', 'Владивосток', 536],\n",
    "\n",
    "['2018-01-01', 'google', 'cpc', 'ДФО', 'кампания_1', 'Магадан', 436]\n",
    "\n",
    "]"
   ]
  },
  {
   "cell_type": "code",
   "execution_count": 34,
   "metadata": {},
   "outputs": [],
   "source": [
    "def checkLevels(levelDict, level, line):\n",
    "    if line[level] in levelDict:\n",
    "        checkLevels(levelDict[line[level]],level + 1, line)\n",
    "        return levelDict\n",
    "    else:\n",
    "        levelDict[line[level]] = fillLevels(line[level + 1:])\n",
    "        return levelDict"
   ]
  },
  {
   "cell_type": "code",
   "execution_count": 35,
   "metadata": {},
   "outputs": [
    {
     "name": "stdout",
     "output_type": "stream",
     "text": [
      "{'2018-01-01': {'google': {'cpc': {'ДФО': {'кампания_1': {'Хабаровск': 114, 'Магадан': 436}, 'кампания_2': {'Владивосток': 536}}}}}}\n"
     ]
    }
   ],
   "source": [
    "data_dict = {}\n",
    "for line in data_ex:\n",
    "    data_dict = checkLevels(data_dict, 0, line)\n",
    "print(data_dict)\n"
   ]
  },
  {
   "cell_type": "code",
   "execution_count": 36,
   "metadata": {},
   "outputs": [
    {
     "data": {
      "text/plain": [
       "{'кампания_1': {'Хабаровск': 114, 'Магадан': 436},\n",
       " 'кампания_2': {'Владивосток': 536}}"
      ]
     },
     "execution_count": 36,
     "metadata": {},
     "output_type": "execute_result"
    }
   ],
   "source": [
    "data_dict['2018-01-01']['google']['cpc']['ДФО']"
   ]
  },
  {
   "cell_type": "code",
   "execution_count": 40,
   "metadata": {},
   "outputs": [
    {
     "data": {
      "text/plain": [
       "0.02"
      ]
     },
     "execution_count": 40,
     "metadata": {},
     "output_type": "execute_result"
    }
   ],
   "source": [
    "def findLineValue(finalDict, line):\n",
    "    if len(line)>1:\n",
    "        if line[0] in finalDict:\n",
    "            return findLineValue(finalDict[line[0]], line[1:])\n",
    "        else:\n",
    "            return 0\n",
    "    else:\n",
    "        if line[0] in finalDict:\n",
    "            return finalDict[line[0]]\n",
    "        else:\n",
    "            return 0\n",
    "findLineValue( data_dict, ['2018-01-01', 'google', 'cpc', 'ДФО','кампания_2', 'Владивосток'])/26800\n"
   ]
  },
  {
   "cell_type": "code",
   "execution_count": null,
   "metadata": {},
   "outputs": [],
   "source": []
  },
  {
   "cell_type": "code",
   "execution_count": null,
   "metadata": {},
   "outputs": [],
   "source": []
  }
 ],
 "metadata": {
  "kernelspec": {
   "display_name": "Python 3",
   "language": "python",
   "name": "python3"
  },
  "language_info": {
   "codemirror_mode": {
    "name": "ipython",
    "version": 3
   },
   "file_extension": ".py",
   "mimetype": "text/x-python",
   "name": "python",
   "nbconvert_exporter": "python",
   "pygments_lexer": "ipython3",
   "version": "3.7.2"
  }
 },
 "nbformat": 4,
 "nbformat_minor": 2
}
